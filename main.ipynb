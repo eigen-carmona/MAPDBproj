{
 "cells": [
  {
   "cell_type": "markdown",
   "id": "15df324d-aa33-4f43-a2a3-27d3ec6ec1fa",
   "metadata": {},
   "source": [
    "# Streaming processing of cosmic rays using Drift Tubes detectors\n",
    "## Final project of Management and Analysis of Physics Dataset (B)\n",
    "### Project 4\n",
    "\n",
    "* [Hilario Capettini](https://github.com/hcapettini2)\n",
    "* [Javier Gerardo Carmona](https://github.com/eigen-carmona/)\n",
    "* [Saverio Monaco](https://github.com/SaverioMonaco/)"
   ]
  },
  {
   "cell_type": "code",
   "execution_count": null,
   "id": "98a68f22-3a79-42b5-9e3f-0a4734da3e2e",
   "metadata": {},
   "outputs": [],
   "source": []
  }
 ],
 "metadata": {
  "kernelspec": {
   "display_name": "Python 3",
   "language": "python",
   "name": "python3"
  },
  "language_info": {
   "codemirror_mode": {
    "name": "ipython",
    "version": 3
   },
   "file_extension": ".py",
   "mimetype": "text/x-python",
   "name": "python",
   "nbconvert_exporter": "python",
   "pygments_lexer": "ipython3",
   "version": "3.8.8"
  }
 },
 "nbformat": 4,
 "nbformat_minor": 5
}
