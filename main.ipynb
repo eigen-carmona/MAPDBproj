{
 "cells": [
  {
   "cell_type": "markdown",
   "metadata": {},
   "source": [
    "# Streaming processing of cosmic rays using Drift Tubes detectors\n",
    "## Final project of Management and Analysis of Physics Dataset (B)\n",
    "### Project 4\n",
    "\n",
    "* [Hilario Capettini](https://github.com/hcapettini2)\n",
    "* [Javier Gerardo Carmona](https://github.com/eigen-carmona/)\n",
    "* [Saverio Monaco](https://github.com/SaverioMonaco/)"
   ]
  },
  {
   "cell_type": "code",
   "execution_count": 1,
   "metadata": {},
   "outputs": [],
   "source": [
    "import os"
   ]
  },
  {
   "cell_type": "markdown",
   "metadata": {},
   "source": [
    "## 1 Data acquisition"
   ]
  },
  {
   "cell_type": "code",
   "execution_count": 2,
   "metadata": {},
   "outputs": [
    {
     "name": "stdout",
     "output_type": "stream",
     "text": [
      "To find your EC2 credentials, in the Dashboard go to Project → API Access and then click on View Credentials.\n",
      "https://cloudveneto.ict.unipd.it/dashboard/auth/login/\n"
     ]
    }
   ],
   "source": [
    "%%bash\n",
    "FILE=$HOME/.s3cfg\n",
    "if test -f \"$FILE\"; then\n",
    "    echo \"$FILE exists.\"\n",
    "else\n",
    "    echo \"host_base = cloud-areapd.pd.infn.it:5210\n",
    "host_bucket = cloud-areapd.pd.infn.it:5210\n",
    "use_https = true\n",
    "access_key = <your EC2 access key>\n",
    "secret_key = <your EC2 secret key>\" > $FILE\n",
    "    echo \"To find your EC2 credentials, in the Dashboard go to Project → API Access and then click on View Credentials.\n",
    "https://cloudveneto.ict.unipd.it/dashboard/auth/login/\"\n",
    "fi\n"
   ]
  },
  {
   "cell_type": "code",
   "execution_count": 3,
   "metadata": {},
   "outputs": [
    {
     "name": "stdout",
     "output_type": "stream",
     "text": [
      "/bin/bash: s3cmd: command not found\r\n"
     ]
    }
   ],
   "source": [
    "!s3cmd ls s3://MAPD_miniDT_stream --no-check-certificate"
   ]
  },
  {
   "cell_type": "markdown",
   "metadata": {},
   "source": [
    "%%bash\n",
    "\n",
    "BUCKET=MAPD_miniDT_stream\n",
    "OBJECT=data_000000.txt\n",
    "DIR=./data/\n",
    "\n",
    "s3cmd get s3://$BUCKET/$OBJECT $DIR --no-check-certificate"
   ]
  },
  {
   "cell_type": "code",
   "execution_count": null,
   "metadata": {},
   "outputs": [],
   "source": [
    "# Let us make it a python function"
   ]
  },
  {
   "cell_type": "code",
   "execution_count": null,
   "metadata": {},
   "outputs": [],
   "source": [
    "def download_data(file,BUCKET='MAPD_miniDT_stream',DIR='./data'):\n",
    "    if file > 9:\n",
    "        OBJECT = 'data_0000' + str(file) +'.txt'\n",
    "    else:\n",
    "        OBJECT = 'data_00000' + str(file) +'.txt'\n",
    "    \n",
    "    #print('s3cmd get s3://'+BUCKET+'/'+OBJECT+' '+DIR+' --no-check-certificate')\n",
    "    os.system('s3cmd get s3://'+BUCKET+'/'+OBJECT+' '+DIR+' --no-check-certificate')"
   ]
  },
  {
   "cell_type": "code",
   "execution_count": null,
   "metadata": {
    "scrolled": true
   },
   "outputs": [],
   "source": [
    "download_data(4)"
   ]
  },
  {
   "cell_type": "markdown",
   "metadata": {},
   "source": [
    "## 2 Dataset processing\n",
    "The processing can be performed with either Spark or Dask."
   ]
  },
  {
   "cell_type": "code",
   "execution_count": 1,
   "metadata": {},
   "outputs": [
    {
     "data": {
      "text/plain": [
       "[('HEAD', 'bigint'),\n",
       " ('FPGA', 'bigint'),\n",
       " ('TDC_CHANNEL', 'bigint'),\n",
       " ('ORBIT_CNT', 'bigint'),\n",
       " ('BX_COUNTER', 'bigint'),\n",
       " ('TDC_MEAS', 'double')]"
      ]
     },
     "execution_count": 1,
     "metadata": {},
     "output_type": "execute_result"
    }
   ],
   "source": [
    "#### SAMPLE DATA PROCESSING\n",
    "#!pip install pyspark\n",
    "from pyspark.sql import SparkSession\n",
    "import pandas as pd\n",
    "\n",
    "spark = SparkSession.builder.getOrCreate()\n",
    "sample_data = pd.read_csv('sample_data.csv')\n",
    "#df = spark.read.format('csv').load('sample_data.csv') #currently not recognising column names as such\n",
    "df = spark.createDataFrame(sample_data)\n",
    "df.dtypes"
   ]
  },
  {
   "cell_type": "markdown",
   "metadata": {},
   "source": [
    "The following information should be produced per each batch:\n",
    "1. total number of processed hits, post-clensing (1 value per batch)\n",
    "2. total number of processed hits, post-clensing, per chamber (4 values per batch)\n",
    "3. histogram of the counts of active TDC_CHANNEL, per chamber (4 arrays per batch)\n",
    "4. histogram of the total number of active TDC_CHANNEL in each ORBIT_CNT, per cham-\n",
    "ber (4 arrays per batch)\n",
    "\n",
    "These informations should be wrapped in one message per batch, and injected in a new\n",
    "Kafka topic."
   ]
  },
  {
   "cell_type": "code",
   "execution_count": 2,
   "metadata": {},
   "outputs": [],
   "source": [
    "## TOTAL NUMBER OF PROCESSED HITS\n",
    "clean_df = df.filter(df.HEAD == 2)\n",
    "total_hits = clean_df.count()"
   ]
  },
  {
   "cell_type": "code",
   "execution_count": 3,
   "metadata": {},
   "outputs": [],
   "source": [
    "## CHAMBER FILTERING\n",
    "c_fp = clean_df.filter(clean_df.FPGA == 0)\n",
    "c_ga = clean_df.filter(clean_df.FPGA == 1)\n",
    "c_0 = c_fp.filter(c_fp.TDC_CHANNEL < 64)\n",
    "c_1 = c_fp.filter(c_fp.TDC_CHANNEL >= 64)\n",
    "c_2 = c_ga.filter(c_fp.TDC_CHANNEL < 64)\n",
    "c_3 = c_ga.filter(c_fp.TDC_CHANNEL >= 64)"
   ]
  },
  {
   "cell_type": "code",
   "execution_count": 4,
   "metadata": {},
   "outputs": [],
   "source": [
    "## TOTAL NUMBER OF PROCESSED HITS PER CHAMBER\n",
    "hits_0 = c_0.count().collect()\n",
    "hits_1 = c_1.count().collect()\n",
    "hits_2 = c_2.count().collect()\n",
    "hits_3 = c_3.count().collect()"
   ]
  },
  {
   "cell_type": "code",
   "execution_count": 9,
   "metadata": {},
   "outputs": [],
   "source": [
    "## ACTIVE TDC_CHANNEL PER CHAMBER\n",
    "hist_0 = c_0.groupBy('TDC_CHANNEL').count().collect()\n",
    "hist_1 = c_1.groupBy('TDC_CHANNEL').count().collect()\n",
    "hist_2 = c_2.groupBy('TDC_CHANNEL').count().collect()\n",
    "hist_3 = c_3.groupBy('TDC_CHANNEL').count().collect()"
   ]
  },
  {
   "cell_type": "code",
   "execution_count": 10,
   "metadata": {},
   "outputs": [],
   "source": [
    "## ACTIVE TDC_CHANNEL PER CHAMBER PER ORBIT_CNT\n",
    "orb_0 = c_0.groupBy('TDC_CHANNEL','ORBIT_CNT').count().collect()\n",
    "orb_1 = c_1.groupBy('TDC_CHANNEL','ORBIT_CNT').count().collect()\n",
    "orb_2 = c_2.groupBy('TDC_CHANNEL','ORBIT_CNT').count().collect()\n",
    "orb_3 = c_3.groupBy('TDC_CHANNEL','ORBIT_CNT').count().collect()"
   ]
  },
  {
   "cell_type": "markdown",
   "metadata": {},
   "source": [
    "## 3 Live plotting\n",
    "The results of the processing should be presented in the form of a continuously updating\n",
    "dashboard."
   ]
  },
  {
   "cell_type": "code",
   "execution_count": 13,
   "metadata": {},
   "outputs": [
    {
     "data": {
      "text/plain": [
       "[Row(TDC_CHANNEL=126, count=1),\n",
       " Row(TDC_CHANNEL=124, count=1),\n",
       " Row(TDC_CHANNEL=107, count=2),\n",
       " Row(TDC_CHANNEL=105, count=1),\n",
       " Row(TDC_CHANNEL=127, count=1),\n",
       " Row(TDC_CHANNEL=66, count=2),\n",
       " Row(TDC_CHANNEL=75, count=1),\n",
       " Row(TDC_CHANNEL=117, count=1),\n",
       " Row(TDC_CHANNEL=70, count=1),\n",
       " Row(TDC_CHANNEL=64, count=1)]"
      ]
     },
     "execution_count": 13,
     "metadata": {},
     "output_type": "execute_result"
    }
   ],
   "source": []
  },
  {
   "cell_type": "markdown",
   "metadata": {},
   "source": [
    "## 4 Extras\n",
    "Two additional types of results can be added to the list of the processing, and displayed\n",
    "on the live visualization:\n",
    "1. histogram of the counts of active TDC_CHANNEL, per chamber, ONLY for those orbits with at least one scintillator signal in it (4 arrays per batch)\n",
    "2. histogram of the DRIFTIME, per chamber (4 arrays per batch)"
   ]
  },
  {
   "cell_type": "code",
   "execution_count": null,
   "metadata": {},
   "outputs": [],
   "source": []
  }
 ],
 "metadata": {
  "kernelspec": {
   "display_name": "Python 3",
   "language": "python",
   "name": "python3"
  },
  "language_info": {
   "codemirror_mode": {
    "name": "ipython",
    "version": 3
   },
   "file_extension": ".py",
   "mimetype": "text/x-python",
   "name": "python",
   "nbconvert_exporter": "python",
   "pygments_lexer": "ipython3",
   "version": "3.8.10"
  }
 },
 "nbformat": 4,
 "nbformat_minor": 5
}
