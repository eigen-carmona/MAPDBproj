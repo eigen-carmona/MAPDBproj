{
 "cells": [
  {
   "cell_type": "markdown",
   "metadata": {},
   "source": [
    "# Streaming processing of cosmic rays using Drift Tubes detectors\n",
    "## Final project of Management and Analysis of Physics Dataset (B)\n",
    "### Project 4\n",
    "\n",
    "* [Hilario Capettini](https://github.com/hcapettini2)\n",
    "* [Javier Gerardo Carmona](https://github.com/eigen-carmona/)\n",
    "* [Saverio Monaco](https://github.com/SaverioMonaco/)"
   ]
  },
  {
   "cell_type": "code",
   "execution_count": 1,
   "metadata": {},
   "outputs": [],
   "source": [
    "import os"
   ]
  },
  {
   "cell_type": "markdown",
   "metadata": {},
   "source": [
    "## 1 Data acquisition"
   ]
  },
  {
   "cell_type": "code",
   "execution_count": 2,
   "metadata": {},
   "outputs": [
    {
     "name": "stdout",
     "output_type": "stream",
     "text": [
      "To find your EC2 credentials, in the Dashboard go to Project → API Access and then click on View Credentials.\n",
      "https://cloudveneto.ict.unipd.it/dashboard/auth/login/\n"
     ]
    }
   ],
   "source": [
    "%%bash\n",
    "FILE=$HOME/.s3cfg\n",
    "if test -f \"$FILE\"; then\n",
    "    echo \"$FILE exists.\"\n",
    "else\n",
    "    echo \"host_base = cloud-areapd.pd.infn.it:5210\n",
    "host_bucket = cloud-areapd.pd.infn.it:5210\n",
    "use_https = true\n",
    "access_key = <your EC2 access key>\n",
    "secret_key = <your EC2 secret key>\" > $FILE\n",
    "    echo \"To find your EC2 credentials, in the Dashboard go to Project → API Access and then click on View Credentials.\n",
    "https://cloudveneto.ict.unipd.it/dashboard/auth/login/\"\n",
    "fi\n"
   ]
  },
  {
   "cell_type": "code",
   "execution_count": null,
   "metadata": {},
   "outputs": [],
   "source": [
    "!s3cmd ls s3://MAPD_miniDT_stream --no-check-certificate"
   ]
  },
  {
   "cell_type": "markdown",
   "metadata": {},
   "source": [
    "%%bash\n",
    "\n",
    "BUCKET=MAPD_miniDT_stream\n",
    "OBJECT=data_000000.txt\n",
    "DIR=./data/\n",
    "\n",
    "s3cmd get s3://$BUCKET/$OBJECT $DIR --no-check-certificate"
   ]
  },
  {
   "cell_type": "code",
   "execution_count": null,
   "metadata": {},
   "outputs": [],
   "source": [
    "# Let us make it a python function"
   ]
  },
  {
   "cell_type": "code",
   "execution_count": null,
   "metadata": {},
   "outputs": [],
   "source": [
    "def download_data(file,BUCKET='MAPD_miniDT_stream',DIR='./data'):\n",
    "    if file > 9:\n",
    "        OBJECT = 'data_0000' + str(file) +'.txt'\n",
    "    else:\n",
    "        OBJECT = 'data_00000' + str(file) +'.txt'\n",
    "    \n",
    "    #print('s3cmd get s3://'+BUCKET+'/'+OBJECT+' '+DIR+' --no-check-certificate')\n",
    "    os.system('s3cmd get s3://'+BUCKET+'/'+OBJECT+' '+DIR+' --no-check-certificate')"
   ]
  },
  {
   "cell_type": "code",
   "execution_count": null,
   "metadata": {
    "scrolled": true
   },
   "outputs": [],
   "source": [
    "download_data(4)"
   ]
  },
  {
   "cell_type": "markdown",
   "metadata": {},
   "source": [
    "## 2 Dataset processing\n",
    "The processing can be performed with either Spark or Dask."
   ]
  },
  {
   "cell_type": "markdown",
   "metadata": {},
   "source": [
    "The following information should be produced per each batch:\n",
    "1. total number of processed hits, post-clensing (1 value per batch)\n",
    "2. total number of processed hits, post-clensing, per chamber (4 values per batch)\n",
    "3. histogram of the counts of active TDC_CHANNEL, per chamber (4 arrays per batch)\n",
    "4. histogram of the total number of active TDC_CHANNEL in each ORBIT_CNT, per cham-\n",
    "ber (4 arrays per batch)\n",
    "\n",
    "These informations should be wrapped in one message per batch, and injected in a new\n",
    "Kafka topic."
   ]
  },
  {
   "cell_type": "markdown",
   "metadata": {},
   "source": [
    "## 3 Live plotting\n",
    "The results of the processing should be presented in the form of a continuously updating\n",
    "dashboard."
   ]
  },
  {
   "cell_type": "markdown",
   "metadata": {},
   "source": [
    "## 4 Extras\n",
    "Two additional types of results can be added to the list of the processing, and displayed\n",
    "on the live visualization:\n",
    "1. histogram of the counts of active TDC_CHANNEL, per chamber, ONLY for those orbits with at least one scintillator signal in it (4 arrays per batch)\n",
    "2. histogram of the DRIFTIME, per chamber (4 arrays per batch)"
   ]
  },
  {
   "cell_type": "code",
   "execution_count": null,
   "metadata": {},
   "outputs": [],
   "source": []
  }
 ],
 "metadata": {
  "kernelspec": {
   "display_name": "Python 3",
   "language": "python",
   "name": "python3"
  },
  "language_info": {
   "codemirror_mode": {
    "name": "ipython",
    "version": 3
   },
   "file_extension": ".py",
   "mimetype": "text/x-python",
   "name": "python",
   "nbconvert_exporter": "python",
   "pygments_lexer": "ipython3",
   "version": "3.6.8"
  }
 },
 "nbformat": 4,
 "nbformat_minor": 5
}
