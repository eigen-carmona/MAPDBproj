{
 "cells": [
  {
   "cell_type": "markdown",
   "metadata": {},
   "source": [
    "# Streaming processing of cosmic rays using Drift Tubes detectors\n",
    "## Final project of Management and Analysis of Physics Dataset (B)\n",
    "### Project 4\n",
    "\n",
    "* [Hilario Capettini](https://github.com/hcapettini2)\n",
    "* [Javier Gerardo Carmona](https://github.com/eigen-carmona/)\n",
    "* [Saverio Monaco](https://github.com/SaverioMonaco/)"
   ]
  },
  {
   "cell_type": "code",
   "execution_count": 1,
   "metadata": {},
   "outputs": [],
   "source": [
    "import os"
   ]
  },
  {
   "cell_type": "markdown",
   "metadata": {},
   "source": [
    "## 1 Data acquisition"
   ]
  },
  {
   "cell_type": "code",
   "execution_count": 2,
   "metadata": {},
   "outputs": [
    {
     "name": "stdout",
     "output_type": "stream",
     "text": [
      "To find your EC2 credentials, in the Dashboard go to Project → API Access and then click on View Credentials.\n",
      "https://cloudveneto.ict.unipd.it/dashboard/auth/login/\n"
     ]
    }
   ],
   "source": [
    "%%bash\n",
    "FILE=$HOME/.s3cfg\n",
    "if test -f \"$FILE\"; then\n",
    "    echo \"$FILE exists.\"\n",
    "else\n",
    "    echo \"host_base = cloud-areapd.pd.infn.it:5210\n",
    "host_bucket = cloud-areapd.pd.infn.it:5210\n",
    "use_https = true\n",
    "access_key = <your EC2 access key>\n",
    "secret_key = <your EC2 secret key>\" > $FILE\n",
    "    echo \"To find your EC2 credentials, in the Dashboard go to Project → API Access and then click on View Credentials.\n",
    "https://cloudveneto.ict.unipd.it/dashboard/auth/login/\"\n",
    "fi\n"
   ]
  },
  {
   "cell_type": "code",
   "execution_count": 3,
   "metadata": {},
   "outputs": [
    {
     "name": "stdout",
     "output_type": "stream",
     "text": [
      "/bin/bash: s3cmd: command not found\r\n"
     ]
    }
   ],
   "source": [
    "!s3cmd ls s3://MAPD_miniDT_stream --no-check-certificate"
   ]
  },
  {
   "cell_type": "markdown",
   "metadata": {},
   "source": [
    "%%bash\n",
    "\n",
    "BUCKET=MAPD_miniDT_stream\n",
    "OBJECT=data_000000.txt\n",
    "DIR=./data/\n",
    "\n",
    "s3cmd get s3://$BUCKET/$OBJECT $DIR --no-check-certificate"
   ]
  },
  {
   "cell_type": "code",
   "execution_count": null,
   "metadata": {},
   "outputs": [],
   "source": [
    "# Let us make it a python function"
   ]
  },
  {
   "cell_type": "code",
   "execution_count": null,
   "metadata": {},
   "outputs": [],
   "source": [
    "def download_data(file,BUCKET='MAPD_miniDT_stream',DIR='./data'):\n",
    "    if file > 9:\n",
    "        OBJECT = 'data_0000' + str(file) +'.txt'\n",
    "    else:\n",
    "        OBJECT = 'data_00000' + str(file) +'.txt'\n",
    "    \n",
    "    #print('s3cmd get s3://'+BUCKET+'/'+OBJECT+' '+DIR+' --no-check-certificate')\n",
    "    os.system('s3cmd get s3://'+BUCKET+'/'+OBJECT+' '+DIR+' --no-check-certificate')"
   ]
  },
  {
   "cell_type": "code",
   "execution_count": null,
   "metadata": {
    "scrolled": true
   },
   "outputs": [],
   "source": [
    "download_data(4)"
   ]
  },
  {
   "cell_type": "markdown",
   "metadata": {},
   "source": [
    "## 2 Dataset processing\n",
    "The processing can be performed with either Spark or Dask."
   ]
  },
  {
   "cell_type": "code",
   "execution_count": 35,
   "metadata": {},
   "outputs": [],
   "source": [
    "#### SAMPLE DATA PROCESSING\n",
    "#!pip install pyspark\n",
    "from pyspark.sql import SparkSession\n",
    "import pandas as pd\n",
    "\n",
    "spark = SparkSession.builder.getOrCreate()\n",
    "sample_data = pd.read_csv('sample_data.csv')\n",
    "#df = spark.read.format('csv').load('sample_data.csv') #currently not recognising column names as such\n",
    "df = spark.createDataFrame(sample_data)"
   ]
  },
  {
   "cell_type": "markdown",
   "metadata": {},
   "source": [
    "The following information should be produced per each batch:\n",
    "1. total number of processed hits, post-clensing (1 value per batch)\n",
    "2. total number of processed hits, post-clensing, per chamber (4 values per batch)\n",
    "3. histogram of the counts of active TDC_CHANNEL, per chamber (4 arrays per batch)\n",
    "4. histogram of the total number of active TDC_CHANNEL in each ORBIT_CNT, per cham-\n",
    "ber (4 arrays per batch)\n",
    "\n",
    "These informations should be wrapped in one message per batch, and injected in a new\n",
    "Kafka topic."
   ]
  },
  {
   "cell_type": "code",
   "execution_count": 47,
   "metadata": {},
   "outputs": [],
   "source": [
    "clean_df = df.filter(df.HEAD != 2)\n",
    "total_hits = clean_df.count()\n",
    "\n",
    "chamber = lambda row: 2*row.FPGA + (row.TDC_CHANNEL > 63) # kinda specific application, but is it good for parallelism?"
   ]
  },
  {
   "cell_type": "code",
   "execution_count": 50,
   "metadata": {},
   "outputs": [
    {
     "ename": "AnalysisException",
     "evalue": "cannot resolve '((`FPGA` * CAST(2 AS BIGINT)) + (`TDC_CHANNEL` > CAST(63 AS BIGINT)))' due to data type mismatch: differing types in '((`FPGA` * CAST(2 AS BIGINT)) + (`TDC_CHANNEL` > CAST(63 AS BIGINT)))' (bigint and boolean).;\n'Project [HEAD#456L, FPGA#457L, TDC_CHANNEL#458L, ORBIT_CNT#459L, BX_COUNTER#460L, TDC_MEAS#461, ((FPGA#457L * cast(2 as bigint)) + (TDC_CHANNEL#458L > cast(63 as bigint))) AS CHAMBER#534]\n+- Filter NOT (HEAD#456L = cast(2 as bigint))\n   +- LogicalRDD [HEAD#456L, FPGA#457L, TDC_CHANNEL#458L, ORBIT_CNT#459L, BX_COUNTER#460L, TDC_MEAS#461], false\n",
     "output_type": "error",
     "traceback": [
      "\u001b[0;31m---------------------------------------------------------------------------\u001b[0m",
      "\u001b[0;31mAnalysisException\u001b[0m                         Traceback (most recent call last)",
      "\u001b[0;32m<ipython-input-50-c4aeb25c1352>\u001b[0m in \u001b[0;36m<module>\u001b[0;34m\u001b[0m\n\u001b[0;32m----> 1\u001b[0;31m \u001b[0mclean_df\u001b[0m\u001b[0;34m.\u001b[0m\u001b[0mwithColumn\u001b[0m\u001b[0;34m(\u001b[0m\u001b[0;34m'CHAMBER'\u001b[0m\u001b[0;34m,\u001b[0m \u001b[0mchamber\u001b[0m\u001b[0;34m(\u001b[0m\u001b[0mclean_df\u001b[0m\u001b[0;34m)\u001b[0m\u001b[0;34m)\u001b[0m\u001b[0;34m\u001b[0m\u001b[0;34m\u001b[0m\u001b[0m\n\u001b[0m",
      "\u001b[0;32m~/.local/lib/python3.8/site-packages/pyspark/sql/dataframe.py\u001b[0m in \u001b[0;36mwithColumn\u001b[0;34m(self, colName, col)\u001b[0m\n\u001b[1;32m   2453\u001b[0m         \"\"\"\n\u001b[1;32m   2454\u001b[0m         \u001b[0;32massert\u001b[0m \u001b[0misinstance\u001b[0m\u001b[0;34m(\u001b[0m\u001b[0mcol\u001b[0m\u001b[0;34m,\u001b[0m \u001b[0mColumn\u001b[0m\u001b[0;34m)\u001b[0m\u001b[0;34m,\u001b[0m \u001b[0;34m\"col should be Column\"\u001b[0m\u001b[0;34m\u001b[0m\u001b[0;34m\u001b[0m\u001b[0m\n\u001b[0;32m-> 2455\u001b[0;31m         \u001b[0;32mreturn\u001b[0m \u001b[0mDataFrame\u001b[0m\u001b[0;34m(\u001b[0m\u001b[0mself\u001b[0m\u001b[0;34m.\u001b[0m\u001b[0m_jdf\u001b[0m\u001b[0;34m.\u001b[0m\u001b[0mwithColumn\u001b[0m\u001b[0;34m(\u001b[0m\u001b[0mcolName\u001b[0m\u001b[0;34m,\u001b[0m \u001b[0mcol\u001b[0m\u001b[0;34m.\u001b[0m\u001b[0m_jc\u001b[0m\u001b[0;34m)\u001b[0m\u001b[0;34m,\u001b[0m \u001b[0mself\u001b[0m\u001b[0;34m.\u001b[0m\u001b[0msql_ctx\u001b[0m\u001b[0;34m)\u001b[0m\u001b[0;34m\u001b[0m\u001b[0;34m\u001b[0m\u001b[0m\n\u001b[0m\u001b[1;32m   2456\u001b[0m \u001b[0;34m\u001b[0m\u001b[0m\n\u001b[1;32m   2457\u001b[0m     \u001b[0;32mdef\u001b[0m \u001b[0mwithColumnRenamed\u001b[0m\u001b[0;34m(\u001b[0m\u001b[0mself\u001b[0m\u001b[0;34m,\u001b[0m \u001b[0mexisting\u001b[0m\u001b[0;34m,\u001b[0m \u001b[0mnew\u001b[0m\u001b[0;34m)\u001b[0m\u001b[0;34m:\u001b[0m\u001b[0;34m\u001b[0m\u001b[0;34m\u001b[0m\u001b[0m\n",
      "\u001b[0;32m~/.local/lib/python3.8/site-packages/py4j/java_gateway.py\u001b[0m in \u001b[0;36m__call__\u001b[0;34m(self, *args)\u001b[0m\n\u001b[1;32m   1302\u001b[0m \u001b[0;34m\u001b[0m\u001b[0m\n\u001b[1;32m   1303\u001b[0m         \u001b[0manswer\u001b[0m \u001b[0;34m=\u001b[0m \u001b[0mself\u001b[0m\u001b[0;34m.\u001b[0m\u001b[0mgateway_client\u001b[0m\u001b[0;34m.\u001b[0m\u001b[0msend_command\u001b[0m\u001b[0;34m(\u001b[0m\u001b[0mcommand\u001b[0m\u001b[0;34m)\u001b[0m\u001b[0;34m\u001b[0m\u001b[0;34m\u001b[0m\u001b[0m\n\u001b[0;32m-> 1304\u001b[0;31m         return_value = get_return_value(\n\u001b[0m\u001b[1;32m   1305\u001b[0m             answer, self.gateway_client, self.target_id, self.name)\n\u001b[1;32m   1306\u001b[0m \u001b[0;34m\u001b[0m\u001b[0m\n",
      "\u001b[0;32m~/.local/lib/python3.8/site-packages/pyspark/sql/utils.py\u001b[0m in \u001b[0;36mdeco\u001b[0;34m(*a, **kw)\u001b[0m\n\u001b[1;32m    115\u001b[0m                 \u001b[0;31m# Hide where the exception came from that shows a non-Pythonic\u001b[0m\u001b[0;34m\u001b[0m\u001b[0;34m\u001b[0m\u001b[0;34m\u001b[0m\u001b[0m\n\u001b[1;32m    116\u001b[0m                 \u001b[0;31m# JVM exception message.\u001b[0m\u001b[0;34m\u001b[0m\u001b[0;34m\u001b[0m\u001b[0;34m\u001b[0m\u001b[0m\n\u001b[0;32m--> 117\u001b[0;31m                 \u001b[0;32mraise\u001b[0m \u001b[0mconverted\u001b[0m \u001b[0;32mfrom\u001b[0m \u001b[0;32mNone\u001b[0m\u001b[0;34m\u001b[0m\u001b[0;34m\u001b[0m\u001b[0m\n\u001b[0m\u001b[1;32m    118\u001b[0m             \u001b[0;32melse\u001b[0m\u001b[0;34m:\u001b[0m\u001b[0;34m\u001b[0m\u001b[0;34m\u001b[0m\u001b[0m\n\u001b[1;32m    119\u001b[0m                 \u001b[0;32mraise\u001b[0m\u001b[0;34m\u001b[0m\u001b[0;34m\u001b[0m\u001b[0m\n",
      "\u001b[0;31mAnalysisException\u001b[0m: cannot resolve '((`FPGA` * CAST(2 AS BIGINT)) + (`TDC_CHANNEL` > CAST(63 AS BIGINT)))' due to data type mismatch: differing types in '((`FPGA` * CAST(2 AS BIGINT)) + (`TDC_CHANNEL` > CAST(63 AS BIGINT)))' (bigint and boolean).;\n'Project [HEAD#456L, FPGA#457L, TDC_CHANNEL#458L, ORBIT_CNT#459L, BX_COUNTER#460L, TDC_MEAS#461, ((FPGA#457L * cast(2 as bigint)) + (TDC_CHANNEL#458L > cast(63 as bigint))) AS CHAMBER#534]\n+- Filter NOT (HEAD#456L = cast(2 as bigint))\n   +- LogicalRDD [HEAD#456L, FPGA#457L, TDC_CHANNEL#458L, ORBIT_CNT#459L, BX_COUNTER#460L, TDC_MEAS#461], false\n"
     ]
    }
   ],
   "source": [
    "clean_df.withColumn('CHAMBER', chamber(clean_df))"
   ]
  },
  {
   "cell_type": "code",
   "execution_count": 49,
   "metadata": {},
   "outputs": [
    {
     "data": {
      "text/plain": [
       "Column<'((FPGA * 2) + (TDC_CHANNEL > 63))'>"
      ]
     },
     "execution_count": 49,
     "metadata": {},
     "output_type": "execute_result"
    }
   ],
   "source": [
    "chamber(clean_df)"
   ]
  },
  {
   "cell_type": "markdown",
   "metadata": {},
   "source": [
    "## 3 Live plotting\n",
    "The results of the processing should be presented in the form of a continuously updating\n",
    "dashboard."
   ]
  },
  {
   "cell_type": "markdown",
   "metadata": {},
   "source": [
    "## 4 Extras\n",
    "Two additional types of results can be added to the list of the processing, and displayed\n",
    "on the live visualization:\n",
    "1. histogram of the counts of active TDC_CHANNEL, per chamber, ONLY for those orbits with at least one scintillator signal in it (4 arrays per batch)\n",
    "2. histogram of the DRIFTIME, per chamber (4 arrays per batch)"
   ]
  },
  {
   "cell_type": "code",
   "execution_count": null,
   "metadata": {},
   "outputs": [],
   "source": []
  }
 ],
 "metadata": {
  "kernelspec": {
   "display_name": "Python 3",
   "language": "python",
   "name": "python3"
  },
  "language_info": {
   "codemirror_mode": {
    "name": "ipython",
    "version": 3
   },
   "file_extension": ".py",
   "mimetype": "text/x-python",
   "name": "python",
   "nbconvert_exporter": "python",
   "pygments_lexer": "ipython3",
   "version": "3.8.10"
  }
 },
 "nbformat": 4,
 "nbformat_minor": 5
}
