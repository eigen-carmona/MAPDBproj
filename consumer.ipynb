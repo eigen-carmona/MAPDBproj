{
 "cells": [
  {
   "cell_type": "code",
   "execution_count": null,
   "id": "3385f857-f9bf-4331-a982-a715aa6da3cd",
   "metadata": {},
   "outputs": [],
   "source": [
    "from kafka import KafkaConsumer\n",
    "import json\n",
    "import numpy as np\n",
    "import matplotlib.pyplot as plt \n",
    "import ast\n",
    "\n",
    "import pickle\n",
    "from dashboard_utils import *\n",
    "\n",
    "KAFKA_BOOTSTRAP_SERVERS = 'localhost:9092'\n",
    "consumer = KafkaConsumer(bootstrap_servers=KAFKA_BOOTSTRAP_SERVERS,\n",
    "                         consumer_timeout_ms=100000)"
   ]
  },
  {
   "cell_type": "code",
   "execution_count": null,
   "id": "54de1bfd",
   "metadata": {},
   "outputs": [],
   "source": [
    "consumer.subscribe('results')\n",
    "for message in consumer:\n",
    "    #message = str(message).replace(\"'\", '\"')\n",
    "    message = ast.literal_eval(message.value.decode(\"utf-8\"))\n",
    "    #message = message.decode(\"utf-8\") #json.loads(message)\n",
    "    #message  = ast.literal_eval(message)\n",
    "    print(message['Index'])\n",
    "    print(message['Total Count'])\n",
    "    \n",
    "    for chamber in [\"Chamber_1\", \"Chamber_2\", \"Chamber_3\", \"Chamber_4\"]:\n",
    "        print(\"------\")\n",
    "        print(chamber)\n",
    "        print(chamber, 'count:', message[chamber][\"Count\"])\n",
    "        print(\"-----\")\n",
    "        print(\"HISTOGRAM 1\")\n",
    "        print(message[chamber][\"Hist_1\"][\"Bins\"])\n",
    "        print(message[chamber][\"Hist_1\"][\"Counts\"])\n",
    "        print(\"HISTOGRAM 2\")\n",
    "        print(message[chamber][\"Hist_2\"][\"Bins\"])\n",
    "        print(message[chamber][\"Hist_2\"][\"Counts\"])\n",
    "    \n",
    "    save_obj(message,'message')"
   ]
  },
  {
   "cell_type": "code",
   "execution_count": null,
   "id": "f67f081e",
   "metadata": {},
   "outputs": [],
   "source": []
  }
 ],
 "metadata": {
  "kernelspec": {
   "display_name": "Python 3 (ipykernel)",
   "language": "python",
   "name": "python3"
  },
  "language_info": {
   "codemirror_mode": {
    "name": "ipython",
    "version": 3
   },
   "file_extension": ".py",
   "mimetype": "text/x-python",
   "name": "python",
   "nbconvert_exporter": "python",
   "pygments_lexer": "ipython3",
   "version": "3.9.6"
  }
 },
 "nbformat": 4,
 "nbformat_minor": 5
}
