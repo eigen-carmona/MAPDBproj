{
 "cells": [
  {
   "cell_type": "code",
   "execution_count": 1,
   "id": "6af8a3b3",
   "metadata": {},
   "outputs": [],
   "source": [
    "import json,csv\n",
    "from kafka import KafkaProducer\n",
    "import time"
   ]
  },
  {
   "cell_type": "code",
   "execution_count": 2,
   "id": "3f8277c8",
   "metadata": {},
   "outputs": [],
   "source": [
    "def producer(file,sleep_time=0.00015):\n",
    "    producer = KafkaProducer( bootstrap_servers=KAFKA_BOOTSTRAP_SERVERS,\n",
    "                               value_serializer=lambda v: json.dumps(v).encode('utf-8'))\n",
    "    path ='./Data/'\n",
    "    with open(path+file+'.csv') as file:\n",
    "        reader = csv.DictReader(file, delimiter=\",\")\n",
    "        i = 0\n",
    "        start = time.time()\n",
    "        for row in reader:\n",
    "            \n",
    "            row[\"HEAD\"] = int(row[\"HEAD\"])\n",
    "            row[\"FPGA\"] = int(row[\"FPGA\"])\n",
    "            row[\"TDC_CHANNEL\"] = int(row[\"TDC_CHANNEL\"])\n",
    "            row[\"ORBIT_CNT\"] = float(row[\"ORBIT_CNT\"])\n",
    "            row[\"BX_COUNTER\"] = int(row[\"BX_COUNTER\"])\n",
    "            row[\"TDC_MEAS\"] = float(row[\"TDC_MEAS\"])\n",
    "            producer.send(topic='Experiment_measurements', value=row)\n",
    "            #producer.send(topic='Experiment_measurements', value=json.dumps(row))\n",
    "            producer.flush()\n",
    "            time.sleep(sleep_time) #This was adjusted \"by eye\" to send 1000 elements/second\n",
    "            i += 1\n",
    "            if (i==1000):\n",
    "                end = time.time()\n",
    "                print(f\"The time to print elements is:\",end-start)\n",
    "                "
   ]
  },
  {
   "cell_type": "code",
   "execution_count": null,
   "id": "2ac42030",
   "metadata": {},
   "outputs": [
    {
     "name": "stdout",
     "output_type": "stream",
     "text": [
      "data_000000\n",
      "The time to print elements is: 2.9248244762420654\n"
     ]
    }
   ],
   "source": [
    "KAFKA_BOOTSTRAP_SERVERS = 'localhost:9092'\n",
    "\n",
    "for file in ['data_000000'] :\n",
    "    print(file)\n",
    "    producer(file)"
   ]
  },
  {
   "cell_type": "code",
   "execution_count": null,
   "id": "e6ca9590",
   "metadata": {},
   "outputs": [],
   "source": [
    "producer.close()"
   ]
  }
 ],
 "metadata": {
  "kernelspec": {
   "display_name": "Python 3 (ipykernel)",
   "language": "python",
   "name": "python3"
  },
  "language_info": {
   "codemirror_mode": {
    "name": "ipython",
    "version": 3
   },
   "file_extension": ".py",
   "mimetype": "text/x-python",
   "name": "python",
   "nbconvert_exporter": "python",
   "pygments_lexer": "ipython3",
   "version": "3.9.6"
  }
 },
 "nbformat": 4,
 "nbformat_minor": 5
}
