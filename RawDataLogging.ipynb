{
 "cells": [
  {
   "cell_type": "code",
   "execution_count": 74,
   "metadata": {},
   "outputs": [],
   "source": [
    "import csv\n",
    "import dask.array as da\n",
    "import numpy as np\n",
    "from time import sleep\n",
    "rexp = np.random.exponential\n",
    "\n",
    "def data_post(file,rate,log):\n",
    "    with open(file,newline = '') as file:\n",
    "        data = csv.DictReader(file)\n",
    "        for entry in data: sleep(rexp(1/rate)), log(entry)# Maybe multi-thread this"
   ]
  },
  {
   "cell_type": "code",
   "execution_count": 75,
   "metadata": {},
   "outputs": [
    {
     "name": "stdout",
     "output_type": "stream",
     "text": [
      "CPU times: user 1.01 s, sys: 119 ms, total: 1.13 s\n",
      "Wall time: 8.14 s\n"
     ]
    }
   ],
   "source": [
    "%%time\n",
    "sample_file = 'sample_data.csv'\n",
    "entries_per_sec = 2000\n",
    "\n",
    "data_post(sample_file, entries_per_sec, lambda x: None)"
   ]
  },
  {
   "cell_type": "code",
   "execution_count": null,
   "metadata": {},
   "outputs": [],
   "source": []
  }
 ],
 "metadata": {
  "kernelspec": {
   "display_name": "Python 3.8.5 64-bit",
   "language": "python",
   "name": "python38564bitea5c4b6a5f064c45ad9e9614bde7cc12"
  },
  "language_info": {
   "codemirror_mode": {
    "name": "ipython",
    "version": 3
   },
   "file_extension": ".py",
   "mimetype": "text/x-python",
   "name": "python",
   "nbconvert_exporter": "python",
   "pygments_lexer": "ipython3",
   "version": "3.8.10"
  }
 },
 "nbformat": 4,
 "nbformat_minor": 4
}
