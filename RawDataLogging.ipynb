{
 "cells": [
  {
   "cell_type": "code",
   "execution_count": 1,
   "metadata": {},
   "outputs": [],
   "source": [
    "import csv\n",
    "import dask.array as da\n",
    "import numpy as np\n",
    "from time import sleep\n",
    "import threading\n",
    "rexp = np.random.exponential\n",
    "\n",
    "def data_post(file,rate,log):\n",
    "    with open(file,newline = '') as file:\n",
    "        #times = da.random.exponential(1/rate,12000).compute()\n",
    "        data = csv.DictReader(file)\n",
    "        for i, entry in enumerate(data):\n",
    "            #sleep(times[i])\n",
    "            sleep(rexp(1/rate))\n",
    "            x = threading.Thread(target = log, args = (entry,))\n",
    "            x.start()"
   ]
  },
  {
   "cell_type": "code",
   "execution_count": 2,
   "metadata": {},
   "outputs": [
    {
     "name": "stdout",
     "output_type": "stream",
     "text": [
      "CPU times: user 4.6 s, sys: 2.18 s, total: 6.78 s\n",
      "Wall time: 18.7 s\n"
     ]
    }
   ],
   "source": [
    "%%time\n",
    "sample_file = 'sample_data.csv'\n",
    "entries_per_sec = 1000\n",
    "\n",
    "data_post(sample_file, entries_per_sec, lambda x: None)"
   ]
  },
  {
   "cell_type": "code",
   "execution_count": null,
   "metadata": {},
   "outputs": [],
   "source": []
  }
 ],
 "metadata": {
  "kernelspec": {
   "display_name": "Python 3.8.5 64-bit",
   "language": "python",
   "name": "python38564bitea5c4b6a5f064c45ad9e9614bde7cc12"
  },
  "language_info": {
   "codemirror_mode": {
    "name": "ipython",
    "version": 3
   },
   "file_extension": ".py",
   "mimetype": "text/x-python",
   "name": "python",
   "nbconvert_exporter": "python",
   "pygments_lexer": "ipython3",
   "version": "3.8.10"
  }
 },
 "nbformat": 4,
 "nbformat_minor": 4
}
