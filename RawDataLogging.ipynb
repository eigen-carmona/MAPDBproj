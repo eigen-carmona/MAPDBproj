{
 "cells": [
  {
   "cell_type": "code",
   "execution_count": 1,
   "metadata": {},
   "outputs": [],
   "source": [
    "CLUSTER_TYPE ='docker_cluster'"
   ]
  },
  {
   "cell_type": "code",
   "execution_count": 13,
   "metadata": {},
   "outputs": [],
   "source": [
    "import os\n",
    "\n",
    "KAFKA_BOOTSTRAP_SERVERS = ''\n",
    "\n",
    "if CLUSTER_TYPE == 'local':\n",
    "\n",
    "    KAFKA_HOME = '~/Downloads/kafka_2.13-2.8.0'\n",
    "    KAFKA_BOOTSTRAP_SERVERS = ['localhost:9092']\n",
    "    \n",
    "    # Start Zookeeper    \n",
    "    os.system('{0}/bin/zookeeper-server-start.sh {0}/config/zookeeper.properties'.format(KAFKA_HOME)) \n",
    "    \n",
    "    # Start one Kafka Broker\n",
    "    os.system('{0}/bin/kafka-server-start.sh {0}/config/server.properties'.format(KAFKA_HOME)) \n",
    "    \n",
    "elif CLUSTER_TYPE == 'docker_cluster':\n",
    "\n",
    "    KAFKA_BOOTSTRAP_SERVERS = 'localhost:9092'"
   ]
  },
  {
   "cell_type": "code",
   "execution_count": 14,
   "metadata": {},
   "outputs": [],
   "source": [
    "import csv\n",
    "import dask.array as da\n",
    "import numpy as np\n",
    "from time import sleep\n",
    "import threading\n",
    "rexp = np.random.exponential\n",
    "\n",
    "def data_post(file,rate,log):\n",
    "    with open(file,newline = '') as file:\n",
    "        #times = da.random.exponential(1/rate,12000).compute()\n",
    "        data = csv.DictReader(file)\n",
    "        for i, entry in enumerate(data):\n",
    "            #sleep(times[i])\n",
    "            sleep(max(rexp(1/rate)-0.00050,0))# a lot of time is wasted elsewhere, \"one by one\" rates are hard to achieve\n",
    "            #x = threading.Thread(target = log, args = (entry,))\n",
    "            #x.start()\n",
    "            log(entry)"
   ]
  },
  {
   "cell_type": "code",
   "execution_count": 15,
   "metadata": {},
   "outputs": [
    {
     "name": "stdout",
     "output_type": "stream",
     "text": [
      "CPU times: user 1.5 s, sys: 226 ms, total: 1.73 s\n",
      "Wall time: 37.7 s\n"
     ]
    }
   ],
   "source": [
    "%%time\n",
    "sample_file = 'sample_data.csv'\n",
    "entries_per_sec = 300\n",
    "\n",
    "data_post(sample_file, entries_per_sec, lambda x: None)"
   ]
  },
  {
   "cell_type": "code",
   "execution_count": 16,
   "metadata": {},
   "outputs": [],
   "source": [
    "from kafka import KafkaProducer\n",
    "import json"
   ]
  },
  {
   "cell_type": "code",
   "execution_count": 17,
   "metadata": {
    "scrolled": true
   },
   "outputs": [],
   "source": [
    "producer = KafkaProducer(\n",
    "    bootstrap_servers=KAFKA_BOOTSTRAP_SERVERS,\n",
    "                         value_serializer=lambda x: json.dumps(x).encode('utf-8')\n",
    "                        )"
   ]
  },
  {
   "cell_type": "code",
   "execution_count": 18,
   "metadata": {},
   "outputs": [],
   "source": [
    "topic = 'raw-data'\n",
    "def logger(x):\n",
    "    y = {\n",
    "        \"HEAD\": int(x['HEAD']),\n",
    "        \"FPGA\": int(x['FPGA']),\n",
    "        \"TDC_CHANNEL\": int(x['TDC_CHANNEL']),\n",
    "        \"ORBIT_CNT\": int(x['ORBIT_CNT']),\n",
    "        \"BX_COUNTER\": int(x['BX_COUNTER']),\n",
    "        \"TDC_MEAS\": float(x['TDC_MEAS'])\n",
    "    }\n",
    "    producer.send(topic, value = y)\n",
    "    producer.flush()\n"
   ]
  },
  {
   "cell_type": "code",
   "execution_count": 19,
   "metadata": {},
   "outputs": [
    {
     "name": "stdout",
     "output_type": "stream",
     "text": [
      "CPU times: user 35.2 s, sys: 3.69 s, total: 38.9 s\n",
      "Wall time: 1min 19s\n"
     ]
    }
   ],
   "source": [
    "%%time\n",
    "data_post(sample_file, entries_per_sec, logger)"
   ]
  },
  {
   "cell_type": "code",
   "execution_count": null,
   "metadata": {},
   "outputs": [],
   "source": []
  }
 ],
 "metadata": {
  "kernelspec": {
   "display_name": "Python 3.8.5 64-bit",
   "language": "python",
   "name": "python38564bitea5c4b6a5f064c45ad9e9614bde7cc12"
  },
  "language_info": {
   "codemirror_mode": {
    "name": "ipython",
    "version": 3
   },
   "file_extension": ".py",
   "mimetype": "text/x-python",
   "name": "python",
   "nbconvert_exporter": "python",
   "pygments_lexer": "ipython3",
   "version": "3.8.10"
  }
 },
 "nbformat": 4,
 "nbformat_minor": 4
}
