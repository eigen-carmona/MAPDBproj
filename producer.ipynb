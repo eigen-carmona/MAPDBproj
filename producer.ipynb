{
 "cells": [
  {
   "cell_type": "code",
   "execution_count": null,
   "id": "2b075c5c",
   "metadata": {},
   "outputs": [],
   "source": [
    "import json,csv\n",
    "from kafka import KafkaProducer\n",
    "import time"
   ]
  },
  {
   "cell_type": "code",
   "execution_count": null,
   "id": "d094ab22",
   "metadata": {},
   "outputs": [],
   "source": [
    "def sender(file,producer,sleep_time=0.00015):\n",
    "    path ='./Data/'\n",
    "    with open(path+file+'.csv') as file:\n",
    "        reader = csv.DictReader(file, delimiter=\",\")\n",
    "        i = 0\n",
    "        start = time.time()\n",
    "        for row in reader:\n",
    "            \n",
    "            row[\"HEAD\"] = int(row[\"HEAD\"])\n",
    "            row[\"FPGA\"] = int(row[\"FPGA\"])\n",
    "            row[\"TDC_CHANNEL\"] = int(row[\"TDC_CHANNEL\"])\n",
    "            row[\"ORBIT_CNT\"] = float(row[\"ORBIT_CNT\"])\n",
    "            row[\"BX_COUNTER\"] = int(row[\"BX_COUNTER\"])\n",
    "            row[\"TDC_MEAS\"] = float(row[\"TDC_MEAS\"])\n",
    "            producer.send(topic='Experiment_measurements', value=row, )\n",
    "            #producer.send(topic='Experiment_measurements', value=json.dumps(row))\n",
    "            #producer.flush()\n",
    "            time.sleep(sleep_time) #This was adjusted \"by eye\" to send 1000 elements/second\n",
    "            i += 1\n",
    "            if (i==1000):\n",
    "                i = 0\n",
    "                end = time.time()\n",
    "                print(f\"The time to print elements is:\",end-start)\n",
    "                start = end\n",
    "                "
   ]
  },
  {
   "cell_type": "code",
   "execution_count": null,
   "id": "0bb40398",
   "metadata": {
    "scrolled": false
   },
   "outputs": [],
   "source": [
    "KAFKA_BOOTSTRAP_SERVERS = 'slave01:9092'\n",
    "#KAFKA_BOOTSTRAP_SERVERS = 'localhost:9092'\n",
    "producer = KafkaProducer( bootstrap_servers=KAFKA_BOOTSTRAP_SERVERS,\n",
    "                               value_serializer=lambda v: json.dumps(v).encode('utf-8'))\n",
    "\n",
    "for file in ['data_000000']:\n",
    "    print(file)\n",
    "    sender(file, producer,0.0007)"
   ]
  },
  {
   "cell_type": "code",
   "execution_count": null,
   "id": "41097fe2",
   "metadata": {},
   "outputs": [],
   "source": [
    "producer.close()"
   ]
  },
  {
   "cell_type": "code",
   "execution_count": null,
   "id": "1ae04221",
   "metadata": {},
   "outputs": [],
   "source": []
  },
  {
   "cell_type": "code",
   "execution_count": null,
   "id": "557ae398",
   "metadata": {},
   "outputs": [],
   "source": []
  }
 ],
 "metadata": {
  "kernelspec": {
   "display_name": "Python 3",
   "language": "python",
   "name": "python3"
  },
  "language_info": {
   "codemirror_mode": {
    "name": "ipython",
    "version": 3
   },
   "file_extension": ".py",
   "mimetype": "text/x-python",
   "name": "python",
   "nbconvert_exporter": "python",
   "pygments_lexer": "ipython3",
   "version": "3.8.8"
  }
 },
 "nbformat": 4,
 "nbformat_minor": 5
}
