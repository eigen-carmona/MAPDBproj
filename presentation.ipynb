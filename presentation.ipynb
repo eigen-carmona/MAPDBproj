{
 "cells": [
  {
   "cell_type": "markdown",
   "id": "29706dd2",
   "metadata": {},
   "source": [
    "# MAPD-B distributed processing exam\n",
    "## Project 4: Streaming processing of cosmic rays using Drift Tubes detectors\n",
    "\n",
    "The goal of this project is to reproduce a real-time processing of real data collected in a\n",
    "particle physics detector and publish the results in a dashboard for live monitoring.\n",
    "\n",
    "### Students:\n",
    "* [Hilario Capettini](https://github.com/hcapettini2) (2013031)\n",
    "* [Javier Gerardo Carmona](https://github.com/eigen-carmona/) (2005005)\n",
    "* [Saverio Monaco](https://github.com/SaverioMonaco/) (2012264)"
   ]
  },
  {
   "cell_type": "code",
   "execution_count": null,
   "id": "c4630e35",
   "metadata": {},
   "outputs": [],
   "source": []
  },
  {
   "cell_type": "markdown",
   "id": "6949aafb",
   "metadata": {},
   "source": [
    "##  The Cluster"
   ]
  },
  {
   "cell_type": "markdown",
   "id": "f93e0a51",
   "metadata": {},
   "source": [
    "5 Cloud Veneto VMs were assigned for this project:\n",
    "* MAPD-B_Gr17-5 10.67.22.83\n",
    "* MAPD-B_Gr17-4 10.67.22.136\n",
    "* MAPD-B_Gr17-3 10.67.22.102\n",
    "* MAPD-B_Gr17-2 10.67.22.39\n",
    "* MAPD-B_Gr17-1 10.67.22.137\n",
    "\n",
    "Each machine runs CentOs and the Specs are:\n",
    "* RAM:   8GB\n",
    "* VCPUs: 4\n",
    "* Disk:  25GB"
   ]
  },
  {
   "cell_type": "code",
   "execution_count": null,
   "id": "6e7ec087",
   "metadata": {},
   "outputs": [],
   "source": []
  },
  {
   "cell_type": "markdown",
   "id": "c45be676",
   "metadata": {},
   "source": [
    "## Setting the Cluster"
   ]
  },
  {
   "cell_type": "markdown",
   "id": "428328dc",
   "metadata": {},
   "source": [
    "(Maybe here we can spend a few words on how to set up a Cluster)\n",
    "- We chose a \"master node\" VM. In this case, we establish the following pairing:\n",
    "\n",
    "10.67.22.83 master\\\n",
    "10.67.22.137 slave01\\\n",
    "10.67.22.39 slave02\\\n",
    "10.67.22.102 slave03\\\n",
    "10.67.22.136 slave04\n",
    "\n",
    "which was added verbatim to the ```/etc/hosts``` file for every VM.\n",
    "\n",
    "- Then, we generate a public key for the master VM. This is added to each vm authorized keys. No passphrase is created, so that master can access any of the VMs without the need for a password.\n",
    "\n"
   ]
  },
  {
   "cell_type": "markdown",
   "id": "e92ba7e3",
   "metadata": {},
   "source": [
    "### Configuration chosen"
   ]
  },
  {
   "cell_type": "code",
   "execution_count": null,
   "id": "a9059d9a",
   "metadata": {},
   "outputs": [],
   "source": []
  },
  {
   "cell_type": "markdown",
   "id": "e17ef359",
   "metadata": {},
   "source": [
    "### Benchmarks of other configurations"
   ]
  },
  {
   "cell_type": "code",
   "execution_count": 1,
   "id": "747cd142",
   "metadata": {},
   "outputs": [],
   "source": [
    "# Here we basically justify why we chosen the current configuration"
   ]
  },
  {
   "cell_type": "markdown",
   "id": "de2bb5f4",
   "metadata": {
    "tags": []
   },
   "source": [
    "## Setting Kafka and Spark"
   ]
  },
  {
   "cell_type": "markdown",
   "id": "06251bc9",
   "metadata": {},
   "source": [
    "(Maybe here we can spend a few words about the commands on how to create the pipeline, in a cluster)\n",
    "### Spark\n",
    "#### Installation\n",
    "- We begin by installing ```java-11-openjdk``` along with ```spark-3.1.2``` in every one of the cluster's virtual machines.\n",
    "- MISSING STEP spark-env.sh\n",
    "#### Execution\n",
    "- ```\\$SPARK_HOME/sbin/start-master.sh``` on master machine\n",
    "- ```\\$SPARK_HOME/sbin/start-worker.sh spark://master:7077``` on each desired worker (possibly including master)\n",
    "\n",
    "### Kafka\n",
    "#### Installation\n",
    "- ```wget -c https://dlcdn.apache.org/kafka/2.8.0/kafka_2.13-2.8.0.tgz```\n",
    "- ```tar -xzf kafka_2.13-2.8.0.tgz```\n",
    "#### Execution\n",
    "- ```./$KAFKA_HOME/bin/zookeeper-server-start.sh config/zookeeper.properties```\n",
    "- ```./$KAFKA_HOME/bin/kafka-server-start.sh config/server.properties```\n"
   ]
  },
  {
   "cell_type": "markdown",
   "id": "819ff0ec",
   "metadata": {},
   "source": [
    "### Consumer and Producer"
   ]
  },
  {
   "cell_type": "code",
   "execution_count": null,
   "id": "fef494d1",
   "metadata": {},
   "outputs": [],
   "source": []
  },
  {
   "cell_type": "markdown",
   "id": "b86ee0a1",
   "metadata": {},
   "source": [
    "## Data Processing"
   ]
  },
  {
   "cell_type": "code",
   "execution_count": 13,
   "id": "e8c2146a",
   "metadata": {},
   "outputs": [
    {
     "name": "stdout",
     "output_type": "stream",
     "text": [
      "root\n",
      " |-- HEAD: integer (nullable = true)\n",
      " |-- FPGA: integer (nullable = true)\n",
      " |-- TDC_CHANNEL: integer (nullable = true)\n",
      " |-- ORBIT_CNT: double (nullable = true)\n",
      " |-- BX_COUNTER: integer (nullable = true)\n",
      " |-- TDC_MEAS: double (nullable = true)\n",
      "\n"
     ]
    }
   ],
   "source": [
    "flatDF.printSchema()"
   ]
  },
  {
   "cell_type": "code",
   "execution_count": null,
   "id": "e6d9426c",
   "metadata": {},
   "outputs": [],
   "source": [
    "## Colection of functions for the main computation\n",
    "\n",
    "def chamber_assignment(df):\n",
    "    '''Assign chamber number and leave the scintillator carriers with chamber == null'''\n",
    "\n",
    "    return(df.withColumn('CHAMBER',when(col(\"FPGA\") == 0,\n",
    "                                                when(col(\"TDC_CHANNEL\")<=63,1).\\\n",
    "                                                otherwise(when(col(\"TDC_CHANNEL\")<128,2))).\\\n",
    "                                           otherwise(when(col(\"TDC_CHANNEL\")<=63,3).\\\n",
    "                                                     otherwise(when(col(\"TDC_CHANNEL\")<128,4))\n",
    "                                           )).\\\n",
    "                                           select([ col('TDC_CHANNEL'), col('ORBIT_CNT'),\n",
    "                                           col('BX_COUNTER'),col('TDC_MEAS'),\n",
    "                                           col('CHAMBER')])\n",
    "          )\n",
    "\n",
    "\n",
    "def scintillator_data(df):\n",
    "    '''Define a dataframe containing the relevant information for \n",
    "    the scintillator analysis''' \n",
    "    \n",
    "    #First we filter the events encoding the passage time,\n",
    "    #then we add the PASSAGE time for each event \n",
    "    #Finally if we have two scilantor hits within the same orbit we keep \n",
    "    #the one with the smaller time\n",
    "    return(df.filter((col(\"CHAMBER\").isNull()) & (col(\"FPGA\") == 1)).\\\n",
    "                          withColumn(\"PASSAGETIME\", 25 * (col(\"ORBIT_CNT\") * 3564 + col(\"BX_COUNTER\") + col(\"TDC_MEAS\")/30)).\\\n",
    "                          drop(\"TDC_CHANNEL\").drop(\"BX_COUNTER\").\\\n",
    "                          drop(\"TDC_MEAS\").drop(\"CHAMBER\").\\\n",
    "                          groupBy(\"ORBIT_CNT\").min(\"PASSAGETIME\").\\\n",
    "                          withColumnRenamed(\"ORBIT_CNT\",\"ORBIT_CNT_sci\").\\\n",
    "                          withColumnRenamed(\"min(PASSAGETIME)\",\"PASSAGETIME\")\n",
    "          )\n",
    "\n",
    "\n",
    "def histogram_a(df,min_v,max_v,inc,key):# TODO: replicate the function generalization to the actual code\n",
    "    '''This function return the bins and counts for the first type of requested histogram'''\n",
    "    hist_bins = np.arange(min_v,max_v,inc)\n",
    "    hist = df\\\n",
    "        .filter((min_v<=F.col(key)) & (F.col(key)<=max_v))\\\n",
    "        .withColumn('BIN', F.floor((F.col(key)-min_v)/inc))\\\n",
    "        .groupBy('CHAMBER','BIN')\\\n",
    "        .count().select('CHAMBER','BIN', col('count').alias('COUNT'))\n",
    "    return (hist_bins, hist)\n",
    "\n",
    "\n",
    "def histogram_b(df,min_v,max_v,inc,key_1,key_2):\n",
    "    '''This function return the bins and counts for the second type of requested histogram'''\n",
    "    hist_bins = np.arange(min_v,max_v,inc)\n",
    "    hist = df\\\n",
    "        .groupBy('CHAMBER',key_1)\\\n",
    "        .agg(F.countDistinct(key_2).alias('ACTIVE'))\\\n",
    "        .filter((min_v<=F.col(key_1))&(F.col(key_1)<=max_v))\\\n",
    "        .withColumn('BIN',F.floor((F.col(key_1)-min_v)/inc))\\\n",
    "        .groupBy('CHAMBER','BIN')\\\n",
    "        .agg(F.sum('ACTIVE').alias('COUNT'))\n",
    "    return(hist_bins, hist)\n",
    "\n",
    "\n",
    "def numpify(bins, pos_count):\n",
    "    '''NUMPIFY RESULTS'''\n",
    "    counter = np.zeros(len(bins))#np.zeros(len(bins)-1)?\n",
    "    positions = np.array(list(pos_count.keys()))\n",
    "    counts = np.array(list(pos_count.values()))\n",
    "    counter[positions] = counts\n",
    "    return counter\n",
    "\n",
    "\n",
    "def prepare_results(hist, hist_bins):\n",
    "    '''COLLECTING RESULTS'''    \n",
    "    _hist = hist.groupBy('CHAMBER').agg(\n",
    "    F.map_from_entries(\n",
    "        F.collect_list(\n",
    "            F.struct(\"BIN\", \"COUNT\"))).alias(\"COUNT\")\n",
    "        ).collect()    \n",
    "\n",
    "    # JSON FORMATING OF RESULTS\n",
    "    _hist_dict = {row.CHAMBER: {\n",
    "        'Bins': list(hist_bins), 'Counts': list(numpify(hist_bins,row.COUNT))\n",
    "    } for row in _hist}\n",
    "    \n",
    "    return _hist_dict\n"
   ]
  },
  {
   "cell_type": "code",
   "execution_count": null,
   "id": "61998e7c",
   "metadata": {},
   "outputs": [],
   "source": [
    "def computations(df, epoch, log):\n",
    "    '''This is the main function of the code, it requires a dataframe as input. The dataframe is analysed\n",
    "       and the results are published in the kafka topic \"results\" '''\n",
    "    main_df = chamber_assignment(df)\n",
    "\n",
    "    scintillator_df = scintillator_data(main_df)\n",
    "    \n",
    "    ### Drop the columns with null values from main_df\n",
    "    hit_df = main_df.na.drop(subset=[\"CHAMBER\"])\n",
    "    \n",
    "    ## TOTAL NUMBER OF PROCESSED HITS\n",
    "    total_hits = hit_df.count()\n",
    "    if not total_hits: return\n",
    "\n",
    "    ## TOTAL NUMBER OF PROCESSED HITS PER CHAMBER\n",
    "    chamber_hits = hit_df\\\n",
    "        .groupBy('CHAMBER').count()\\\n",
    "        .select(col('CHAMBER'),col('count').alias('COUNT'))\n",
    "    \n",
    "    ## ACTIVE TDC_CHANNEL PER CHAMBER\n",
    "    min_v_1 = 0\n",
    "    max_v_1 = 127\n",
    "    inc_1 = 5\n",
    "    hist_1_bins, hist_1 = histogram_a(hit_df,min_v_1,max_v_1,inc_1, 'TDC_CHANNEL')\n",
    "    \n",
    "    ## ACTIVE TDC_CHANNEL PER CHAMBER PER ORBIT_CNT\n",
    "    min_v_2 = 6.e5 #main_df.agg(F.min(F.col('ORBIT_CNT')).alias('min')).collect()[-1].min\n",
    "    max_v_2 = 1.e7 #main_df.agg(F.max(F.col('ORBIT_CNT')).alias('max')).collect()[-1].max\n",
    "    inc_2 = 0.5e6\n",
    "    hist_2_bins, hist_2 = histogram_b(hit_df,min_v_2,max_v_2,inc_2, 'ORBIT_CNT', 'TDC_CHANNEL')\n",
    "    \n",
    "    \n",
    "    ### keep only the hits with a scintillator signal within the same orbit\n",
    "    chamber_sci = hit_df.join(scintillator_df,main_df.ORBIT_CNT ==  scintillator_df.ORBIT_CNT_sci,\"inner\")\n",
    "\n",
    "    ## ADD TIME CORRECTION BY CHAMBER\n",
    "    chamber_sci = chamber_sci.withColumn('TIME_OFFSET',when(col(\"CHAMBER\") == 1, 93.9).\\\n",
    "                                                       when(col(\"CHAMBER\") == 2, 101.4).\\\n",
    "                                                       when(col(\"CHAMBER\") == 3, 95.5).\\\n",
    "                                                       when(col(\"CHAMBER\") == 4, 92.4))\n",
    "\n",
    "    ### Add the ABSSOLUTETIME and DRIFTIME\n",
    "    chamber_sci = chamber_sci.withColumn(\"ABSOLUTETIME\",\n",
    "                             25 * (col(\"ORBIT_CNT\") * 3564 + col(\"BX_COUNTER\") + col(\"TDC_MEAS\")/30)).\\\n",
    "                              withColumn(\"DRIFTIME\",col(\"ABSOLUTETIME\")-col(\"PASSAGETIME\") + col(\"TIME_OFFSET\"))\n",
    "   \n",
    "\n",
    "    ## ACTIVE TDC_CHANNEL PER CHAMBER WITHIN SCINTILLATOR SIGNAL\n",
    "    min_v_3 = 0\n",
    "    max_v_3= 127\n",
    "    inc_3 = 5\n",
    "    hist_3_bins, hist_3 = histogram_a(chamber_sci,min_v_3,max_v_3,inc_3, 'TDC_CHANNEL')\n",
    "    \n",
    "\n",
    "    ## HISTOGRAM OF DRIFTIME, PER CHAMBER\n",
    "    min_v_4 = 0\n",
    "    max_v_4= 1000\n",
    "    inc_4 = 10\n",
    "    hist_4_bins, hist_4 = histogram_a(chamber_sci,min_v_4,max_v_4,inc_4, 'DRIFTIME')\n",
    "\n",
    "\n",
    "    # PREPARE THE RESULTS\n",
    "    _chamber_hits = {row.CHAMBER: int(row.COUNT) for row in chamber_hits.collect()}\n",
    "    _hist_1_dict = prepare_results(hist_1,hist_1_bins)\n",
    "    _hist_2_dict = prepare_results(hist_2,hist_2_bins)\n",
    "    _hist_3_dict = prepare_results(hist_3,hist_3_bins)\n",
    "    _hist_4_dict = prepare_results(hist_4,hist_4_bins)\n",
    "    \n",
    "    default = lambda bins: {'Bins': list(bins), 'Counts' : [0]*(len(bins)-1)}\n",
    "    \n",
    "    results = {f'Chamber_{i}': {\n",
    "        'Count': _chamber_hits.get(i, 0),\n",
    "        'Hist_1': _hist_1_dict.get(i, default(hist_1_bins)),\n",
    "        'Hist_2': _hist_2_dict.get(i, default(hist_2_bins)),\n",
    "        'Hist_3': _hist_3_dict.get(i, default(hist_3_bins)),\n",
    "        'Hist_4': _hist_4_dict.get(i, default(hist_4_bins))} for i in range(1,5)}\n",
    "\n",
    "    results.update({\n",
    "        'Index': time.time(),\n",
    "        'Total Count': int(total_hits)\n",
    "    })\n",
    "\n",
    "    log(results)\n",
    "    return\n"
   ]
  },
  {
   "cell_type": "markdown",
   "id": "3c422d89",
   "metadata": {},
   "source": [
    "##  Results"
   ]
  },
  {
   "cell_type": "code",
   "execution_count": null,
   "id": "8c467c35",
   "metadata": {},
   "outputs": [],
   "source": []
  },
  {
   "cell_type": "markdown",
   "id": "88846e4f",
   "metadata": {},
   "source": [
    "### Vertical scalability"
   ]
  },
  {
   "cell_type": "code",
   "execution_count": null,
   "id": "ca9655f4",
   "metadata": {},
   "outputs": [],
   "source": []
  },
  {
   "cell_type": "markdown",
   "id": "d5706473",
   "metadata": {},
   "source": [
    "### Horizontal scalability"
   ]
  },
  {
   "cell_type": "code",
   "execution_count": null,
   "id": "ccf500ea",
   "metadata": {},
   "outputs": [],
   "source": []
  },
  {
   "cell_type": "markdown",
   "id": "f15f4915",
   "metadata": {},
   "source": [
    "### Scaling with ammount of data"
   ]
  },
  {
   "cell_type": "code",
   "execution_count": null,
   "id": "768da100",
   "metadata": {},
   "outputs": [],
   "source": []
  },
  {
   "cell_type": "markdown",
   "id": "9a102df0",
   "metadata": {
    "tags": []
   },
   "source": [
    "## Live Plotting"
   ]
  },
  {
   "cell_type": "markdown",
   "id": "1449dd5a",
   "metadata": {},
   "source": [
    "To create a live webpage dashboard we used [Plotly Dash](https://github.com/plotly/dash) a Python library built on top of Plotly to create Analytical Web Apps."
   ]
  },
  {
   "cell_type": "markdown",
   "id": "fc848748",
   "metadata": {},
   "source": [
    "The information reported in the Dashboard are the following:\n",
    "\n",
    "**PLOTS**\n",
    "1. total number of processed hits, post-clensing (PLOT AND TABLE)\n",
    "2. total number of processed hits, post-clensing, per chamber (TABLE)\n",
    "3. histogram of the counts of active TDC_CHANNEL, per chamber (HISTOGRAM 1)\n",
    "4. histogram of the total number of active TDC_CHANNEL in each ORBIT_CNT, per chamber (HISTOGRAM 2)\n",
    "\n",
    "**EXTRA**\n",
    "1. histogram of the counts of active TDC_CHANNEL, per chamber, ONLY for those orbits with at least one scintillator signal in it (EXTRA 1)\n",
    "2. histogram of the DRIFTIME, per chamber (EXTRA 2 AND EXTRA 2 (cumulative))"
   ]
  },
  {
   "cell_type": "markdown",
   "id": "eeae5588",
   "metadata": {},
   "source": [
    "<img src=\"imgs/dashboard.png\"/>"
   ]
  },
  {
   "cell_type": "code",
   "execution_count": null,
   "id": "73ca07f8",
   "metadata": {},
   "outputs": [],
   "source": []
  },
  {
   "cell_type": "markdown",
   "id": "ad9c1f85",
   "metadata": {},
   "source": [
    "## Backup Information"
   ]
  },
  {
   "cell_type": "markdown",
   "id": "89cc049a",
   "metadata": {},
   "source": [
    "### Data-cleansing"
   ]
  },
  {
   "cell_type": "markdown",
   "id": "6ce3bddf",
   "metadata": {},
   "source": [
    "Data-cleansing : $$\\text{HEAD} == 2 $$\n",
    "Other entries provide ancillary information"
   ]
  },
  {
   "cell_type": "markdown",
   "id": "2ca94ea5",
   "metadata": {},
   "source": [
    "### Chamber mapping"
   ]
  },
  {
   "cell_type": "markdown",
   "id": "684b9ba0",
   "metadata": {},
   "source": [
    "• Chamber 0 → (FPGA = 0) AND (TDC_CHANNEL in [0-63])\\\n",
    "• Chamber 1 → (FPGA = 0) AND (TDC_CHANNEL in [64-127])\\\n",
    "• Chamber 2 → (FPGA = 1) AND (TDC_CHANNEL in [0-63])\\\n",
    "• Chamber 3 → (FPGA = 1) AND (TDC_CHANNEL in [64-127])"
   ]
  },
  {
   "cell_type": "markdown",
   "id": "cbe6f33c",
   "metadata": {},
   "source": [
    "### Driftime"
   ]
  },
  {
   "cell_type": "markdown",
   "id": "648e5f50",
   "metadata": {},
   "source": [
    "#### Absolute time\n",
    "For each hit we can associate an absolute time:\n",
    "\n",
    "$$t_{TDC\\space hit} = 25 ∗ ( ORBIT\\_CNT ∗ 3564 + BX\\_COUNTER + TDC\\_MEAS /30)\\quad [ns]$$\n",
    "\n",
    "\n",
    "#### Passage of a muon time\n",
    "The passage time of any muon is provided by an external scintillator signal which correspond to the following selection:\n",
    "\n",
    "$$\\text{(FPGA == 1) AND (TDC_CHANNEL == 128)}$$"
   ]
  },
  {
   "cell_type": "markdown",
   "id": "02a602cf",
   "metadata": {},
   "source": [
    "#### Scintillator time offset"
   ]
  },
  {
   "cell_type": "markdown",
   "id": "add6254e",
   "metadata": {},
   "source": [
    "```python\n",
    "# scintillator time offset by Chamber\n",
    "time_offset_by_chamber = {\n",
    "0: 95.0 - 1.1, # Ch 0\n",
    "1: 95.0 + 6.4, # Ch 1\n",
    "2: 95.0 + 0.5, # Ch 2\n",
    "3: 95.0 - 2.6, # Ch 3\n",
    "}\n",
    "```"
   ]
  },
  {
   "cell_type": "markdown",
   "id": "8bda2ac7",
   "metadata": {},
   "source": [
    "#### Driftime\n",
    "For those hits with a scintillator signal within the same orbit, a DRIFTIME can be defined, corresponding to the ABSOLUTETIME difference between each hit and the scintillator (from the same orbit)."
   ]
  },
  {
   "cell_type": "code",
   "execution_count": null,
   "id": "3961283f",
   "metadata": {},
   "outputs": [],
   "source": []
  },
  {
   "cell_type": "markdown",
   "id": "d2c59e44",
   "metadata": {},
   "source": [
    "### Dashboard"
   ]
  },
  {
   "cell_type": "markdown",
   "id": "80d65545",
   "metadata": {},
   "source": [
    "#### Callbacks\n",
    "The dashboard file reads periodically from a file located in ```./board/message.pkl``` that contains the last instance produced by the topic_results (in consumer).\n",
    "\n",
    "Whenever a variable gets updated during the reading of the file, the appropriate update function for the figures gets called and updates them.\\\n",
    "The update functions come with a ```callback decorator```:"
   ]
  },
  {
   "cell_type": "markdown",
   "id": "e43dd75a",
   "metadata": {},
   "source": [
    "Example of callback functions: \n",
    "\n",
    "```python\n",
    "@app.callback(Output('hist1-1','figure'),\n",
    "             [Input('graph-update', 'n_intervals')])\n",
    "def updateHist1(n):\n",
    "     return hist_getdata(1,1)\n",
    "    \n",
    "@app.callback(Output('hist1-2','figure'),\n",
    "             [Input('graph-update', 'n_intervals')])\n",
    "def updateHist2(n):\n",
    "     return hist_getdata(1,2)\n",
    "    \n",
    "@app.callback(Output('hist1-3','figure'),\n",
    "             [Input('graph-update', 'n_intervals')])\n",
    "def updateHist3(n):\n",
    "     return hist_getdata(1,3)\n",
    "```"
   ]
  },
  {
   "cell_type": "markdown",
   "id": "3ba84187",
   "metadata": {},
   "source": [
    "Structure of the callbacks:\n",
    "<img src=\"./imgs/dashboard_callbacks.png\"/>"
   ]
  },
  {
   "cell_type": "code",
   "execution_count": null,
   "id": "114448cb",
   "metadata": {},
   "outputs": [],
   "source": []
  }
 ],
 "metadata": {
  "kernelspec": {
   "display_name": "Python 3 (ipykernel)",
   "language": "python",
   "name": "python3"
  },
  "language_info": {
   "codemirror_mode": {
    "name": "ipython",
    "version": 3
   },
   "file_extension": ".py",
   "mimetype": "text/x-python",
   "name": "python",
   "nbconvert_exporter": "python",
   "pygments_lexer": "ipython3",
   "version": "3.9.6"
  }
 },
 "nbformat": 4,
 "nbformat_minor": 5
}
