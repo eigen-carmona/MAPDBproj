{
 "cells": [
  {
   "cell_type": "markdown",
   "id": "08e4a5fd-e831-4c99-9831-c437624deb7c",
   "metadata": {},
   "source": [
    "# MAPD-B distributed processing exam\n",
    "## Project 4: Streaming processing of cosmic rays using Drift Tubes detectors\n",
    "\n",
    "The goal of this project is to reproduce a real-time processing of real data collected in a\n",
    "particle physics detector and publish the results in a dashboard for live monitoring.\n",
    "\n",
    "### Students:\n",
    "* [Hilario Capettini](https://github.com/hcapettini2) (2013031)\n",
    "* [Javier Gerardo Carmona](https://github.com/eigen-carmona/) (2005005)\n",
    "* [Saverio Monaco](https://github.com/SaverioMonaco/) (2012264)"
   ]
  },
  {
   "cell_type": "code",
   "execution_count": null,
   "id": "c6f1d6a4-bc7a-4b1e-9546-025bd82e99a0",
   "metadata": {},
   "outputs": [],
   "source": []
  },
  {
   "cell_type": "markdown",
   "id": "95ec7da7-a558-4f5e-a1fc-d9945961d55b",
   "metadata": {},
   "source": [
    "##  The Cluster"
   ]
  },
  {
   "cell_type": "markdown",
   "id": "b59b6931-a589-4a7b-a7e7-c9bed271219e",
   "metadata": {},
   "source": [
    "5 Cloud Veneto VMs were assigned for this project:\n",
    "* MAPD-B_Gr17-5 10.67.22.83\n",
    "* MAPD-B_Gr17-4 10.67.22.136\n",
    "* MAPD-B_Gr17-3 10.67.22.102\n",
    "* MAPD-B_Gr17-2 10.67.22.39\n",
    "* MAPD-B_Gr17-1 10.67.22.137\n",
    "\n",
    "Each machine runs CentOs and the Specs are:\n",
    "* RAM:   8GB\n",
    "* VCPUs: 4\n",
    "* Disk:  25GB"
   ]
  },
  {
   "cell_type": "code",
   "execution_count": null,
   "id": "4ba620d1-035c-421a-aa4a-9c53d406d5d0",
   "metadata": {},
   "outputs": [],
   "source": []
  },
  {
   "cell_type": "markdown",
   "id": "47b91af5-1fad-48fb-8c7d-00e847362d5b",
   "metadata": {},
   "source": [
    "## Setting the Cluster"
   ]
  },
  {
   "cell_type": "code",
   "execution_count": null,
   "id": "a79d48f2-1f15-423f-a6e5-66d981be5222",
   "metadata": {},
   "outputs": [],
   "source": [
    "# Maybe here we can spend a few words on how to set up a Cluster"
   ]
  },
  {
   "cell_type": "markdown",
   "id": "9584302e-f791-4e82-863f-63d73369d089",
   "metadata": {},
   "source": [
    "### Configuration chosen"
   ]
  },
  {
   "cell_type": "code",
   "execution_count": null,
   "id": "b623db46-4897-484c-b604-4fecdd35d19c",
   "metadata": {},
   "outputs": [],
   "source": []
  },
  {
   "cell_type": "markdown",
   "id": "c063a4c7-98f7-4de1-8121-5756c0144096",
   "metadata": {},
   "source": [
    "### Benchmarks of other configurations"
   ]
  },
  {
   "cell_type": "code",
   "execution_count": 1,
   "id": "6bd9b806-cdbe-42a2-8553-e77754b31a6d",
   "metadata": {},
   "outputs": [],
   "source": [
    "# Here we basically justify why we chosen the current configuration"
   ]
  },
  {
   "cell_type": "markdown",
   "id": "790f8e0d-9da7-4101-bfcd-d0b8308756af",
   "metadata": {},
   "source": [
    "## Setting Kafka and Spark"
   ]
  },
  {
   "cell_type": "code",
   "execution_count": null,
   "id": "e5340252-02e2-40f4-9014-ef5c1b84a856",
   "metadata": {},
   "outputs": [],
   "source": [
    "# Maybe here we can spend a few words about the commands on how to create the pipeline,\n",
    "# in a cluster"
   ]
  },
  {
   "cell_type": "markdown",
   "id": "e759db4c-d7fb-41c2-b607-e590eb6493aa",
   "metadata": {},
   "source": [
    "### Consumer and Producer"
   ]
  },
  {
   "cell_type": "code",
   "execution_count": null,
   "id": "6caaf551-42c1-49fe-a868-24d3b8ef2339",
   "metadata": {},
   "outputs": [],
   "source": []
  },
  {
   "cell_type": "markdown",
   "id": "dc7031d1-0161-4c97-80d5-6687be15b325",
   "metadata": {},
   "source": [
    "## Data Processing"
   ]
  },
  {
   "cell_type": "code",
   "execution_count": null,
   "id": "b637eff9-f7f6-4963-b57c-eda0ac03581d",
   "metadata": {},
   "outputs": [],
   "source": [
    "# What kind of data are we dealing with? Here we can show in-depth the function Computations"
   ]
  },
  {
   "cell_type": "markdown",
   "id": "f359ee29-635c-4254-9e8c-083941d0a0af",
   "metadata": {},
   "source": [
    "##  Results"
   ]
  },
  {
   "cell_type": "code",
   "execution_count": null,
   "id": "b76d24e6-33bd-4f4d-852e-e0074330b15f",
   "metadata": {},
   "outputs": [],
   "source": []
  },
  {
   "cell_type": "markdown",
   "id": "af20a4c7-ac1a-4c42-89ea-4e9ad33f064b",
   "metadata": {},
   "source": [
    "### Vertical scalability"
   ]
  },
  {
   "cell_type": "code",
   "execution_count": null,
   "id": "e3af05e7-bdf7-4521-a4d8-7055299a18d3",
   "metadata": {},
   "outputs": [],
   "source": []
  },
  {
   "cell_type": "markdown",
   "id": "4cba300f-084f-40c4-a19b-728e18149692",
   "metadata": {},
   "source": [
    "### Horizontal scalability"
   ]
  },
  {
   "cell_type": "code",
   "execution_count": null,
   "id": "e50bec69-2fca-4f35-99aa-f7f2f9255728",
   "metadata": {},
   "outputs": [],
   "source": []
  },
  {
   "cell_type": "markdown",
   "id": "4f3d403d-b185-48c9-9200-1b354f06760d",
   "metadata": {},
   "source": [
    "### Scaling with ammount of data"
   ]
  },
  {
   "cell_type": "code",
   "execution_count": null,
   "id": "361b7a81-15dd-456b-825e-6da0f3196c6f",
   "metadata": {},
   "outputs": [],
   "source": []
  },
  {
   "cell_type": "markdown",
   "id": "e67acc34-cc99-401e-856f-e2ded07c16ea",
   "metadata": {
    "tags": []
   },
   "source": [
    "## Live Plotting"
   ]
  },
  {
   "cell_type": "markdown",
   "id": "51c8c4c4-5482-4317-bad5-f335624af5be",
   "metadata": {},
   "source": [
    "To create a live webpage dashboard we used [Plotly Dash](https://github.com/plotly/dash) a Python library built on top of Plotly to create Analytical Web Apps."
   ]
  },
  {
   "cell_type": "markdown",
   "id": "ad7f4f8a-623f-43e3-9e0b-f61afc87a34f",
   "metadata": {},
   "source": [
    "The information reported in the Dashboard are the following:\n",
    "\n",
    "**PLOTS**\n",
    "1. total number of processed hits, post-clensing (PLOT AND TABLE)\n",
    "2. total number of processed hits, post-clensing, per chamber (TABLE)\n",
    "3. histogram of the counts of active TDC_CHANNEL, per chamber (HISTOGRAM 1)\n",
    "4. histogram of the total number of active TDC_CHANNEL in each ORBIT_CNT, per chamber (HISTOGRAM 2)\n",
    "\n",
    "**EXTRA**\n",
    "1. histogram of the counts of active TDC_CHANNEL, per chamber, ONLY for those orbits with at least one scintillator signal in it (EXTRA 1)\n",
    "2. histogram of the DRIFTIME, per chamber (EXTRA 2 AND EXTRA 2 (cumulative))"
   ]
  },
  {
   "cell_type": "markdown",
   "id": "b036b401-1cd5-4dfd-9701-05c61279ef1a",
   "metadata": {},
   "source": [
    "<img src=\"./imgs/dashboard.png\"/>"
   ]
  },
  {
   "cell_type": "code",
   "execution_count": null,
   "id": "67eb01c6-156e-4443-8e63-4529245813f1",
   "metadata": {},
   "outputs": [],
   "source": []
  }
 ],
 "metadata": {
  "kernelspec": {
   "display_name": "Python 3 (ipykernel)",
   "language": "python",
   "name": "python3"
  },
  "language_info": {
   "codemirror_mode": {
    "name": "ipython",
    "version": 3
   },
   "file_extension": ".py",
   "mimetype": "text/x-python",
   "name": "python",
   "nbconvert_exporter": "python",
   "pygments_lexer": "ipython3",
   "version": "3.9.6"
  }
 },
 "nbformat": 4,
 "nbformat_minor": 5
}
