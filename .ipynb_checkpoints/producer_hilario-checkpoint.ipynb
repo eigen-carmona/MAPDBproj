{
 "cells": [
  {
   "cell_type": "code",
   "execution_count": null,
   "id": "6af8a3b3",
   "metadata": {},
   "outputs": [],
   "source": [
    "import json,csv\n",
    "from kafka import KafkaProducer\n",
    "import time\n",
    "from math import ceil"
   ]
  },
  {
   "cell_type": "code",
   "execution_count": null,
   "id": "857be354",
   "metadata": {},
   "outputs": [],
   "source": [
    "def producer(file,batch_size):  \n",
    "    #Start the producer\n",
    "    producer = KafkaProducer(bootstrap_servers = KAFKA_BOOTSTRAP_SERVERS,\n",
    "                             value_serializer  = lambda v: json.dumps(v).encode('utf-8'))\n",
    "    \n",
    "    path ='/home/hilario/PoD/2ndSemester/MAPD-B/Data-processing/Project/MAPDBproj/Data/'\n",
    "    \n",
    "    with open(path+file+'.csv') as file:\n",
    "        reader = csv.DictReader(file, delimiter=\",\")\n",
    "        rows = list(reader)\n",
    "        n_rows = len(rows)\n",
    "        \n",
    "        r_min = 0\n",
    "        r_max = batch_size \n",
    "        for i in range(0,ceil(n_rows/batch_size)): # over the batch intervals\n",
    "            for j in range(r_min,r_max): #collect the data in each batch\n",
    "                rows[j][\"HEAD\"] = int(rows[j][\"HEAD\"])\n",
    "                rows[j][\"FPGA\"] = int(rows[j][\"FPGA\"])\n",
    "                rows[j][\"TDC_CHANNEL\"] = int(rows[j][\"TDC_CHANNEL\"])\n",
    "                rows[j][\"ORBIT_CNT\"] = float(rows[j][\"ORBIT_CNT\"])\n",
    "                rows[j][\"BX_COUNTER\"] = int(rows[j][\"BX_COUNTER\"])\n",
    "                rows[j][\"TDC_MEAS\"] = float(rows[j][\"TDC_MEAS\"])\n",
    "            \n",
    "                producer.send(topic='Experiment_measurements', value=rows[j])\n",
    "                producer.flush()\n",
    "                \n",
    "            r_min += batch_size\n",
    "            r_max = min(r_max + batch_size, n_rows)\n",
    "            #Now we wait for 1 seccond to sent more data\n",
    "            time.sleep(1)"
   ]
  },
  {
   "cell_type": "markdown",
   "id": "eabbf399",
   "metadata": {},
   "source": [
    "# \n"
   ]
  },
  {
   "cell_type": "code",
   "execution_count": null,
   "id": "2ac42030",
   "metadata": {},
   "outputs": [],
   "source": [
    "KAFKA_BOOTSTRAP_SERVERS = 'localhost:9092'\n",
    "batch_size = 10\n",
    "\n",
    "for file in ['data_000000'] :\n",
    "    print(file)\n",
    "    producer(file,batch_size)"
   ]
  },
  {
   "cell_type": "code",
   "execution_count": null,
   "id": "e6ca9590",
   "metadata": {},
   "outputs": [],
   "source": [
    "producer.close()"
   ]
  },
  {
   "cell_type": "code",
   "execution_count": null,
   "id": "add22330",
   "metadata": {},
   "outputs": [],
   "source": []
  }
 ],
 "metadata": {
  "kernelspec": {
   "display_name": "Python 3",
   "language": "python",
   "name": "python3"
  },
  "language_info": {
   "codemirror_mode": {
    "name": "ipython",
    "version": 3
   },
   "file_extension": ".py",
   "mimetype": "text/x-python",
   "name": "python",
   "nbconvert_exporter": "python",
   "pygments_lexer": "ipython3",
   "version": "3.8.8"
  }
 },
 "nbformat": 4,
 "nbformat_minor": 5
}
