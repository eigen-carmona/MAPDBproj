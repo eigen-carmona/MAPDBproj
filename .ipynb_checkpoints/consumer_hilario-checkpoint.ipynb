{
 "cells": [
  {
   "cell_type": "code",
   "execution_count": null,
   "id": "54de1bfd",
   "metadata": {},
   "outputs": [],
   "source": [
    "from kafka import KafkaConsumer\n",
    "import json\n",
    "import numpy as np\n",
    "import matplotlib.pyplot as plt \n",
    "\n",
    "KAFKA_BOOTSTRAP_SERVERS = 'localhost:9092'\n",
    "consumer = KafkaConsumer(bootstrap_servers=KAFKA_BOOTSTRAP_SERVERS,\n",
    "                         consumer_timeout_ms=100000)\n",
    "\n",
    "consumer.subscribe('results')\n",
    "for message in consumer:\n",
    "    message = json.loads(message.value)\n",
    "    print('Tota number of events:',message['Total_events'])\n",
    "    print('Events in chamber 1:',message['Events_per_chamber'][0])\n",
    "    print('Events in chamber 2:',message['Events_per_chamber'][1])\n",
    "    print('Events in chamber 3:',message['Events_per_chamber'][2])\n",
    "    print('Events in chamber 4:',message['Events_per_chamber'][3])\n",
    "    \n",
    "    h_1 = np.array(message['Histogram_1'][0])\n",
    "    h_1 = h_1[h_1[:, 0].argsort()]\n",
    "    h_2 = np.array(message['Histogram_1'][1])\n",
    "    h_2 = h_2[h_2[:, 0].argsort()]\n",
    "    h_3 = np.array(message['Histogram_1'][2])\n",
    "    h_3 = h_3[h_3[:, 0].argsort()]\n",
    "    h_4 = np.array(message['Histogram_1'][3])\n",
    "    h_4 = h_4[h_4[:, 0].argsort()]\n",
    "    \n",
    "    hh_1 = np.array(message['Histogram_2'][0])\n",
    "    hh_1 = h_1[h_1[:, 0].argsort()]\n",
    "    hh_2 = np.array(message['Histogram_2'][1])\n",
    "    hh_2 = h_2[h_2[:, 0].argsort()]\n",
    "    hh_3 = np.array(message['Histogram_2'][2])\n",
    "    hh_3 = h_3[h_3[:, 0].argsort()]\n",
    "    hh_4 = np.array(message['Histogram_2'][3])\n",
    "    hh_4 = h_4[h_4[:, 0].argsort()]"
   ]
  },
  {
   "cell_type": "code",
   "execution_count": null,
   "id": "a4970d7c",
   "metadata": {},
   "outputs": [],
   "source": [
    "plt.bar(h_1[:,0],h_1[:,1])\n",
    "plt.bar(h_2[:,0],h_2[:,1])\n",
    "plt.bar(h_3[:,0],h_3[:,1])\n",
    "plt.bar(h_4[:,0],h_4[:,1])\n",
    "#plt.ylim(0,10)"
   ]
  },
  {
   "cell_type": "code",
   "execution_count": null,
   "id": "fa9da32a",
   "metadata": {},
   "outputs": [],
   "source": []
  },
  {
   "cell_type": "code",
   "execution_count": null,
   "id": "ec25feaa",
   "metadata": {},
   "outputs": [],
   "source": []
  }
 ],
 "metadata": {
  "kernelspec": {
   "display_name": "Python 3",
   "language": "python",
   "name": "python3"
  },
  "language_info": {
   "codemirror_mode": {
    "name": "ipython",
    "version": 3
   },
   "file_extension": ".py",
   "mimetype": "text/x-python",
   "name": "python",
   "nbconvert_exporter": "python",
   "pygments_lexer": "ipython3",
   "version": "3.8.8"
  }
 },
 "nbformat": 4,
 "nbformat_minor": 5
}
