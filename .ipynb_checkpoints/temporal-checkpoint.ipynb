{
 "cells": [
  {
   "cell_type": "code",
   "execution_count": 1,
   "id": "6dc63b4c",
   "metadata": {},
   "outputs": [],
   "source": [
    "CLUSTER_TYPE ='local'"
   ]
  },
  {
   "cell_type": "code",
   "execution_count": 2,
   "id": "44591b10",
   "metadata": {},
   "outputs": [
    {
     "name": "stdout",
     "output_type": "stream",
     "text": [
      "env: CLUSTER_TYPE=local\n"
     ]
    }
   ],
   "source": [
    "# set env variable\n",
    "%env CLUSTER_TYPE $CLUSTER_TYPE"
   ]
  },
  {
   "cell_type": "code",
   "execution_count": 3,
   "id": "88613ff3",
   "metadata": {},
   "outputs": [],
   "source": [
    "if CLUSTER_TYPE=='local':\n",
    "    import findspark\n",
    "    findspark.init('/home/hilario/PoD/2ndSemester/MAPD-B/Data-processing/Labs/Spark_Migliorini/spark/spark-3.1.2-bin-hadoop3.2//')"
   ]
  },
  {
   "cell_type": "code",
   "execution_count": 4,
   "id": "f155144a",
   "metadata": {},
   "outputs": [
    {
     "name": "stdout",
     "output_type": "stream",
     "text": [
      "Launching master and worker\n",
      "org.apache.spark.deploy.master.Master running as process 7328.  Stop it first.\n",
      "org.apache.spark.deploy.worker.Worker running as process 7413.  Stop it first.\n"
     ]
    }
   ],
   "source": [
    "%%script bash --no-raise-error\n",
    "\n",
    "if [[ \"$CLUSTER_TYPE\" != \"docker_cluster\" ]]; then\n",
    "    echo \"Launching master and worker\"\n",
    "    \n",
    "    # start master \n",
    "    $SPARK_HOME/sbin/start-master.sh --host localhost \\\n",
    "        --port 7077 --webui-port 8080\n",
    "    \n",
    "    # start worker\n",
    "    $SPARK_HOME/sbin/start-worker.sh spark://localhost:7077 \\\n",
    "        --cores 2 --memory 2g\n",
    "fi"
   ]
  },
  {
   "cell_type": "code",
   "execution_count": 5,
   "id": "436b0aee",
   "metadata": {},
   "outputs": [
    {
     "data": {
      "text/html": [
       "\n",
       "            <div>\n",
       "                <p><b>SparkSession - in-memory</b></p>\n",
       "                \n",
       "        <div>\n",
       "            <p><b>SparkContext</b></p>\n",
       "\n",
       "            <p><a href=\"http://192.168.2.153:4040\">Spark UI</a></p>\n",
       "\n",
       "            <dl>\n",
       "              <dt>Version</dt>\n",
       "                <dd><code>v3.1.2</code></dd>\n",
       "              <dt>Master</dt>\n",
       "                <dd><code>spark://localhost:7077</code></dd>\n",
       "              <dt>AppName</dt>\n",
       "                <dd><code>First spark application</code></dd>\n",
       "            </dl>\n",
       "        </div>\n",
       "        \n",
       "            </div>\n",
       "        "
      ],
      "text/plain": [
       "<pyspark.sql.session.SparkSession at 0x7fd597ae3d30>"
      ]
     },
     "execution_count": 5,
     "metadata": {},
     "output_type": "execute_result"
    }
   ],
   "source": [
    "from pyspark.sql import SparkSession\n",
    "\n",
    "if CLUSTER_TYPE in ['local', 'docker_container']:\n",
    "    \n",
    "    spark = SparkSession.builder \\\n",
    "        .master(\"spark://localhost:7077\")\\\n",
    "        .appName(\"First spark application\")\\\n",
    "        .config(\"spark.sql.execution.arrow.pyspark.enabled\", \"true\")\\\n",
    "        .config(\"spark.sql.execution.arrow.pyspark.fallback.enabled\", \"false\")\\\n",
    "        .getOrCreate()\n",
    "\n",
    "elif CLUSTER_TYPE == 'docker_cluster':\n",
    "    \n",
    "    # use the provided master\n",
    "    spark = SparkSession.builder \\\n",
    "        .master(\"spark://spark-master:7077\")\\\n",
    "        .appName(\"First spark application\")\\\n",
    "        .config(\"spark.executor.memory\", \"512m\")\\\n",
    "        .config(\"spark.sql.execution.arrow.pyspark.enabled\", \"true\")\\\n",
    "        .config(\"spark.sql.execution.arrow.pyspark.fallback.enabled\", \"false\")\\\n",
    "        .getOrCreate()\n",
    "    \n",
    "spark"
   ]
  },
  {
   "cell_type": "code",
   "execution_count": 6,
   "id": "2d781416",
   "metadata": {},
   "outputs": [
    {
     "data": {
      "text/html": [
       "\n",
       "        <div>\n",
       "            <p><b>SparkContext</b></p>\n",
       "\n",
       "            <p><a href=\"http://192.168.2.153:4040\">Spark UI</a></p>\n",
       "\n",
       "            <dl>\n",
       "              <dt>Version</dt>\n",
       "                <dd><code>v3.1.2</code></dd>\n",
       "              <dt>Master</dt>\n",
       "                <dd><code>spark://localhost:7077</code></dd>\n",
       "              <dt>AppName</dt>\n",
       "                <dd><code>First spark application</code></dd>\n",
       "            </dl>\n",
       "        </div>\n",
       "        "
      ],
      "text/plain": [
       "<SparkContext master=spark://localhost:7077 appName=First spark application>"
      ]
     },
     "execution_count": 6,
     "metadata": {},
     "output_type": "execute_result"
    }
   ],
   "source": [
    "sc = spark.sparkContext\n",
    "sc"
   ]
  },
  {
   "cell_type": "markdown",
   "id": "d85446ea",
   "metadata": {},
   "source": [
    "# LALALALA"
   ]
  },
  {
   "cell_type": "code",
   "execution_count": 7,
   "id": "44697280",
   "metadata": {},
   "outputs": [],
   "source": [
    "# load dataset on dataset/lecture2/dimuon\n",
    "df = spark.read \\\n",
    "    .option(\"inferTimestamp\",\"false\") \\\n",
    "    .option(\"prefersDecimal\",\"false\") \\\n",
    "    .option(\"header\",True)\\\n",
    "    .option(\"inferSchema\" , \"true\")\\\n",
    "    .format('csv') \\\n",
    "    .load('Data/data_000000.csv')"
   ]
  },
  {
   "cell_type": "code",
   "execution_count": 8,
   "id": "c8cc6d31",
   "metadata": {},
   "outputs": [
    {
     "name": "stdout",
     "output_type": "stream",
     "text": [
      "+----+----+-----------+----------+----------+----------+\n",
      "|HEAD|FPGA|TDC_CHANNEL| ORBIT_CNT|BX_COUNTER|  TDC_MEAS|\n",
      "+----+----+-----------+----------+----------+----------+\n",
      "|   1|   1|          0|3387315431|         0|       130|\n",
      "|   0|   1|          2|3387315431|      1119|        24|\n",
      "|   4|   1|          0|3387315431|         0| -0.573730|\n",
      "|   5|   1|          0|3387315431|         0| 45.500000|\n",
      "|   2|   0|         75|3387200947|      2922|         2|\n",
      "|   2|   0|        105|3387200955|      2227|        29|\n",
      "|   2|   0|        107|3387200955|      2234|         7|\n",
      "|   2|   0|        126|3387200973|       476|        29|\n",
      "|   2|   1|         55|3387200955|      1797|        12|\n",
      "|   2|   1|         36|3387200956|      2165|        28|\n",
      "|   2|   1|         51|3387200970|       249|        14|\n",
      "|   2|   1|         90|3387200973|       475|        28|\n",
      "|   4|   0|          0|3387339329|         0| -0.537109|\n",
      "|   5|   0|          0|3387339329|         0|-41.531250|\n",
      "|   3|   0|          0|3387339394|      4353|         0|\n",
      "|   1|   0|          0|3387339394|         0|         4|\n",
      "|   3|   1|          0|3387315706|     17444|         0|\n",
      "|   1|   1|          0|3387315706|         0|        40|\n",
      "|   0|   1|          4|3387315706|      3055|         4|\n",
      "|   4|   1|          0|3387315706|         0| -0.312256|\n",
      "+----+----+-----------+----------+----------+----------+\n",
      "only showing top 20 rows\n",
      "\n"
     ]
    }
   ],
   "source": [
    "df.show()"
   ]
  },
  {
   "cell_type": "code",
   "execution_count": 9,
   "id": "4add043b",
   "metadata": {},
   "outputs": [
    {
     "name": "stdout",
     "output_type": "stream",
     "text": [
      "root\n",
      " |-- HEAD: integer (nullable = true)\n",
      " |-- FPGA: integer (nullable = true)\n",
      " |-- TDC_CHANNEL: integer (nullable = true)\n",
      " |-- ORBIT_CNT: long (nullable = true)\n",
      " |-- BX_COUNTER: integer (nullable = true)\n",
      " |-- TDC_MEAS: string (nullable = true)\n",
      "\n"
     ]
    }
   ],
   "source": [
    "# dataset schema\n",
    "df.printSchema()"
   ]
  },
  {
   "cell_type": "code",
   "execution_count": 10,
   "id": "153613cb",
   "metadata": {},
   "outputs": [
    {
     "name": "stdout",
     "output_type": "stream",
     "text": [
      "+----+----+-----------+----------+----------+---------+\n",
      "|HEAD|FPGA|TDC_CHANNEL| ORBIT_CNT|BX_COUNTER| TDC_MEAS|\n",
      "+----+----+-----------+----------+----------+---------+\n",
      "|   1|   1|          0|3387315431|         0|      130|\n",
      "|   0|   1|          2|3387315431|      1119|       24|\n",
      "|   4|   1|          0|3387315431|         0|-0.573730|\n",
      "|   5|   1|          0|3387315431|         0|45.500000|\n",
      "|   2|   0|         75|3387200947|      2922|        2|\n",
      "+----+----+-----------+----------+----------+---------+\n",
      "only showing top 5 rows\n",
      "\n"
     ]
    }
   ],
   "source": [
    "# show first rows\n",
    "df.show(5)"
   ]
  },
  {
   "cell_type": "code",
   "execution_count": 11,
   "id": "bd93bc9e",
   "metadata": {},
   "outputs": [
    {
     "name": "stdout",
     "output_type": "stream",
     "text": [
      "+----+----+-----------+----------+----------+--------+\n",
      "|HEAD|FPGA|TDC_CHANNEL| ORBIT_CNT|BX_COUNTER|TDC_MEAS|\n",
      "+----+----+-----------+----------+----------+--------+\n",
      "|   2|   0|         75|3387200947|      2922|       2|\n",
      "|   2|   0|        105|3387200955|      2227|      29|\n",
      "|   2|   0|        107|3387200955|      2234|       7|\n",
      "|   2|   0|        126|3387200973|       476|      29|\n",
      "|   2|   1|         55|3387200955|      1797|      12|\n",
      "+----+----+-----------+----------+----------+--------+\n",
      "only showing top 5 rows\n",
      "\n"
     ]
    }
   ],
   "source": [
    "# select only events with two muons\n",
    "clean_df = df.where(df['HEAD']==2)\n",
    "clean_df.show(5)"
   ]
  },
  {
   "cell_type": "code",
   "execution_count": 12,
   "id": "ef50487e",
   "metadata": {},
   "outputs": [
    {
     "ename": "NameError",
     "evalue": "name 'dimuon_df' is not defined",
     "output_type": "error",
     "traceback": [
      "\u001b[0;31m---------------------------------------------------------------------------\u001b[0m",
      "\u001b[0;31mNameError\u001b[0m                                 Traceback (most recent call last)",
      "\u001b[0;32m<ipython-input-12-269d893e46d8>\u001b[0m in \u001b[0;36m<module>\u001b[0;34m\u001b[0m\n\u001b[0;32m----> 1\u001b[0;31m \u001b[0mdimuon_flat\u001b[0m \u001b[0;34m=\u001b[0m \u001b[0mdimuon_df\u001b[0m\u001b[0;34m\u001b[0m\u001b[0;34m\u001b[0m\u001b[0m\n\u001b[0m",
      "\u001b[0;31mNameError\u001b[0m: name 'dimuon_df' is not defined"
     ]
    }
   ],
   "source": [
    "dimuon_flat = dimuon_df"
   ]
  },
  {
   "cell_type": "code",
   "execution_count": 13,
   "id": "3a34fa87",
   "metadata": {},
   "outputs": [
    {
     "data": {
      "text/plain": [
       "1239940"
      ]
     },
     "execution_count": 13,
     "metadata": {},
     "output_type": "execute_result"
    }
   ],
   "source": [
    "clean_df.select('TDC_CHANNEL').count()"
   ]
  },
  {
   "cell_type": "code",
   "execution_count": 14,
   "id": "31477603",
   "metadata": {},
   "outputs": [],
   "source": [
    "from pyspark.sql.functions import concat, col\n",
    "\n",
    "chamber_1 = clean_df.filter((col(\"FPGA\") == 0) & (col(\"TDC_CHANNEL\")>=0) & (col(\"TDC_CHANNEL\")<=63))\n",
    "chamber_2 = clean_df.filter((col(\"FPGA\") == 0) & (col(\"TDC_CHANNEL\")>=64) & (col(\"TDC_CHANNEL\")<=127))\n",
    "chamber_3 = clean_df.filter((col(\"FPGA\") == 1) & (col(\"TDC_CHANNEL\")>=0) & (col(\"TDC_CHANNEL\")<=63))\n",
    "chamber_4 = clean_df.filter((col(\"FPGA\") == 1) & (col(\"TDC_CHANNEL\")>=64) & (col(\"TDC_CHANNEL\")<=127))"
   ]
  },
  {
   "cell_type": "code",
   "execution_count": 15,
   "id": "c6e20ea3",
   "metadata": {},
   "outputs": [],
   "source": [
    "import numpy as np\n",
    "\n",
    "histogram_results = {}\n",
    "    \n",
    "bins, counts = (\n",
    "    chamber_1.select('TDC_CHANNEL')\n",
    "    .rdd.map(lambda x: x.TDC_CHANNEL)\n",
    "    .histogram(list(np.arange(0,170,5)))\n",
    ")\n",
    "    \n",
    "histogram_results['bins'] = bins\n",
    "histogram_results['counts'] = counts"
   ]
  },
  {
   "cell_type": "code",
   "execution_count": 16,
   "id": "4e0ce917",
   "metadata": {},
   "outputs": [
    {
     "name": "stdout",
     "output_type": "stream",
     "text": [
      "DataFrame[HEAD: int, FPGA: int, TDC_CHANNEL: int, ORBIT_CNT: bigint, BX_COUNTER: int, TDC_MEAS: string]\n",
      "chamber_1\n",
      "DataFrame[HEAD: int, FPGA: int, TDC_CHANNEL: int, ORBIT_CNT: bigint, BX_COUNTER: int, TDC_MEAS: string]\n",
      "chamber_2\n",
      "DataFrame[HEAD: int, FPGA: int, TDC_CHANNEL: int, ORBIT_CNT: bigint, BX_COUNTER: int, TDC_MEAS: string]\n",
      "chamber_3\n",
      "DataFrame[HEAD: int, FPGA: int, TDC_CHANNEL: int, ORBIT_CNT: bigint, BX_COUNTER: int, TDC_MEAS: string]\n",
      "chamber_4\n"
     ]
    }
   ],
   "source": [
    "import numpy as np\n",
    "\n",
    "\n",
    "# compute it for each sample\n",
    "histogram_results = {}\n",
    "i=0\n",
    "for chamber in [chamber_1, chamber_2, chamber_3, chamber_4]:\n",
    "    \n",
    "    chamber_name = ['chamber_1', 'chamber_2', 'chamber_3', 'chamber_4']\n",
    "    histogram_results[chamber_name[i]] = {}\n",
    "    print(chamber)\n",
    "    bins, counts = (\n",
    "        chamber.select('TDC_CHANNEL')\n",
    "        .rdd.map(lambda x: x.TDC_CHANNEL)\n",
    "        .histogram(list(np.arange(0,170,5)))\n",
    "    )\n",
    "    print(chamber_name[i])\n",
    "    histogram_results[chamber_name[i]]['bins'] = bins\n",
    "    histogram_results[chamber_name[i]]['counts'] = counts\n",
    "    i +=1"
   ]
  },
  {
   "cell_type": "code",
   "execution_count": 17,
   "id": "a36dfe6c",
   "metadata": {},
   "outputs": [
    {
     "data": {
      "text/plain": [
       "{'chamber_1': {'bins': [0,\n",
       "   5,\n",
       "   10,\n",
       "   15,\n",
       "   20,\n",
       "   25,\n",
       "   30,\n",
       "   35,\n",
       "   40,\n",
       "   45,\n",
       "   50,\n",
       "   55,\n",
       "   60,\n",
       "   65,\n",
       "   70,\n",
       "   75,\n",
       "   80,\n",
       "   85,\n",
       "   90,\n",
       "   95,\n",
       "   100,\n",
       "   105,\n",
       "   110,\n",
       "   115,\n",
       "   120,\n",
       "   125,\n",
       "   130,\n",
       "   135,\n",
       "   140,\n",
       "   145,\n",
       "   150,\n",
       "   155,\n",
       "   160,\n",
       "   165],\n",
       "  'counts': [18567,\n",
       "   19141,\n",
       "   10776,\n",
       "   18020,\n",
       "   17806,\n",
       "   14964,\n",
       "   14162,\n",
       "   14538,\n",
       "   18517,\n",
       "   18792,\n",
       "   11331,\n",
       "   18499,\n",
       "   14868,\n",
       "   0,\n",
       "   0,\n",
       "   0,\n",
       "   0,\n",
       "   0,\n",
       "   0,\n",
       "   0,\n",
       "   0,\n",
       "   0,\n",
       "   0,\n",
       "   0,\n",
       "   0,\n",
       "   0,\n",
       "   0,\n",
       "   0,\n",
       "   0,\n",
       "   0,\n",
       "   0,\n",
       "   0,\n",
       "   0]},\n",
       " 'chamber_2': {'bins': [0,\n",
       "   5,\n",
       "   10,\n",
       "   15,\n",
       "   20,\n",
       "   25,\n",
       "   30,\n",
       "   35,\n",
       "   40,\n",
       "   45,\n",
       "   50,\n",
       "   55,\n",
       "   60,\n",
       "   65,\n",
       "   70,\n",
       "   75,\n",
       "   80,\n",
       "   85,\n",
       "   90,\n",
       "   95,\n",
       "   100,\n",
       "   105,\n",
       "   110,\n",
       "   115,\n",
       "   120,\n",
       "   125,\n",
       "   130,\n",
       "   135,\n",
       "   140,\n",
       "   145,\n",
       "   150,\n",
       "   155,\n",
       "   160,\n",
       "   165],\n",
       "  'counts': [0,\n",
       "   0,\n",
       "   0,\n",
       "   0,\n",
       "   0,\n",
       "   0,\n",
       "   0,\n",
       "   0,\n",
       "   0,\n",
       "   0,\n",
       "   0,\n",
       "   0,\n",
       "   7690,\n",
       "   41741,\n",
       "   43451,\n",
       "   31819,\n",
       "   35412,\n",
       "   28268,\n",
       "   27082,\n",
       "   27605,\n",
       "   40213,\n",
       "   25355,\n",
       "   43439,\n",
       "   34183,\n",
       "   40825,\n",
       "   24057,\n",
       "   0,\n",
       "   0,\n",
       "   0,\n",
       "   0,\n",
       "   0,\n",
       "   0,\n",
       "   0]},\n",
       " 'chamber_3': {'bins': [0,\n",
       "   5,\n",
       "   10,\n",
       "   15,\n",
       "   20,\n",
       "   25,\n",
       "   30,\n",
       "   35,\n",
       "   40,\n",
       "   45,\n",
       "   50,\n",
       "   55,\n",
       "   60,\n",
       "   65,\n",
       "   70,\n",
       "   75,\n",
       "   80,\n",
       "   85,\n",
       "   90,\n",
       "   95,\n",
       "   100,\n",
       "   105,\n",
       "   110,\n",
       "   115,\n",
       "   120,\n",
       "   125,\n",
       "   130,\n",
       "   135,\n",
       "   140,\n",
       "   145,\n",
       "   150,\n",
       "   155,\n",
       "   160,\n",
       "   165],\n",
       "  'counts': [24964,\n",
       "   24998,\n",
       "   23852,\n",
       "   17486,\n",
       "   21808,\n",
       "   21016,\n",
       "   16396,\n",
       "   24328,\n",
       "   27305,\n",
       "   28509,\n",
       "   24699,\n",
       "   25487,\n",
       "   19771,\n",
       "   0,\n",
       "   0,\n",
       "   0,\n",
       "   0,\n",
       "   0,\n",
       "   0,\n",
       "   0,\n",
       "   0,\n",
       "   0,\n",
       "   0,\n",
       "   0,\n",
       "   0,\n",
       "   0,\n",
       "   0,\n",
       "   0,\n",
       "   0,\n",
       "   0,\n",
       "   0,\n",
       "   0,\n",
       "   0]},\n",
       " 'chamber_4': {'bins': [0,\n",
       "   5,\n",
       "   10,\n",
       "   15,\n",
       "   20,\n",
       "   25,\n",
       "   30,\n",
       "   35,\n",
       "   40,\n",
       "   45,\n",
       "   50,\n",
       "   55,\n",
       "   60,\n",
       "   65,\n",
       "   70,\n",
       "   75,\n",
       "   80,\n",
       "   85,\n",
       "   90,\n",
       "   95,\n",
       "   100,\n",
       "   105,\n",
       "   110,\n",
       "   115,\n",
       "   120,\n",
       "   125,\n",
       "   130,\n",
       "   135,\n",
       "   140,\n",
       "   145,\n",
       "   150,\n",
       "   155,\n",
       "   160,\n",
       "   165],\n",
       "  'counts': [0,\n",
       "   0,\n",
       "   0,\n",
       "   0,\n",
       "   0,\n",
       "   0,\n",
       "   0,\n",
       "   0,\n",
       "   0,\n",
       "   0,\n",
       "   0,\n",
       "   0,\n",
       "   4470,\n",
       "   20383,\n",
       "   23826,\n",
       "   20382,\n",
       "   20554,\n",
       "   22073,\n",
       "   21214,\n",
       "   27069,\n",
       "   19365,\n",
       "   20355,\n",
       "   21665,\n",
       "   20583,\n",
       "   16070,\n",
       "   13261,\n",
       "   0,\n",
       "   0,\n",
       "   0,\n",
       "   0,\n",
       "   0,\n",
       "   0,\n",
       "   0]}}"
      ]
     },
     "execution_count": 17,
     "metadata": {},
     "output_type": "execute_result"
    }
   ],
   "source": [
    "histogram_results"
   ]
  },
  {
   "cell_type": "code",
   "execution_count": 18,
   "id": "1f4e3023",
   "metadata": {},
   "outputs": [
    {
     "data": {
      "image/png": "[encoded data removed]",
      "text/plain": [
       "<Figure size 576x432 with 1 Axes>"
      ]
     },
     "metadata": {
      "needs_background": "light"
     },
     "output_type": "display_data"
    }
   ],
   "source": [
    "import matplotlib.pyplot as plt\n",
    "\n",
    "plt.figure(figsize=(8,6))\n",
    "\n",
    "mc_res = histogram_results['chamber_1']\n",
    "bin_centers = mc_res['bins'][:-1] + np.diff(mc_res['bins'])/2\n",
    "plt.hist(\n",
    "    bin_centers, weights=mc_res['counts'], bins=mc_res['bins'],\n",
    "    label='chamber 1', alpha=0.6\n",
    ")\n",
    "\n",
    "mc_res = histogram_results['chamber_2']\n",
    "bin_centers = mc_res['bins'][:-1] + np.diff(mc_res['bins'])/2\n",
    "plt.hist(\n",
    "    bin_centers, weights=mc_res['counts'], bins=mc_res['bins'],\n",
    "    label='chamber 2', alpha=0.6\n",
    ")\n",
    "\n",
    "mc_res = histogram_results['chamber_3']\n",
    "bin_centers = mc_res['bins'][:-1] + np.diff(mc_res['bins'])/2\n",
    "plt.hist(\n",
    "    bin_centers, weights=mc_res['counts'], bins=mc_res['bins'],\n",
    "    label='chamber 3', alpha=0.6\n",
    ")\n",
    "\n",
    "\n",
    "mc_res = histogram_results['chamber_4']\n",
    "bin_centers = mc_res['bins'][:-1] + np.diff(mc_res['bins'])/2\n",
    "plt.hist(\n",
    "    bin_centers, weights=mc_res['counts'], bins=mc_res['bins'],\n",
    "    label='chamber 4', alpha=0.6\n",
    ")\n",
    "\n",
    "\n",
    "plt.xlabel(\"\")\n",
    "plt.ylabel(\"\")\n",
    "plt.legend()\n",
    "plt.semilogy()\n",
    "plt.tight_layout()\n",
    "plt.show()"
   ]
  },
  {
   "cell_type": "code",
   "execution_count": 19,
   "id": "417329ca",
   "metadata": {},
   "outputs": [],
   "source": [
    "histogram_results_2 = {}\n",
    "i=0\n",
    "for chamber in [chamber_1, chamber_2, chamber_3, chamber_4]:\n",
    "    \n",
    "    chamber_name = ['chamber_1', 'chamber_2', 'chamber_3', 'chamber_4']\n",
    "    histogram_results_2[chamber_name[i]] = {}\n",
    "    bins, counts = (\n",
    "        chamber.groupBy('TDC_CHANNEL','ORBIT_CNT')\n",
    "        .count()\n",
    "        .select('ORBIT_CNT')\n",
    "        .rdd.map(lambda x: x.ORBIT_CNT)\n",
    "        .histogram(list(np.arange(6.e5,1.e7,0.5e6)))\n",
    "    )\n",
    "    histogram_results_2[chamber_name[i]]['bins'] = bins\n",
    "    histogram_results_2[chamber_name[i]]['counts'] = counts\n",
    "    i +=1"
   ]
  },
  {
   "cell_type": "code",
   "execution_count": 20,
   "id": "95ee424c",
   "metadata": {},
   "outputs": [
    {
     "data": {
      "image/png": "[encoded data removed]",
      "text/plain": [
       "<Figure size 576x432 with 1 Axes>"
      ]
     },
     "metadata": {
      "needs_background": "light"
     },
     "output_type": "display_data"
    }
   ],
   "source": [
    "import matplotlib.pyplot as plt\n",
    "\n",
    "plt.figure(figsize=(8,6))\n",
    "\n",
    "mc_res = histogram_results_2['chamber_1']\n",
    "bin_centers = mc_res['bins'][:-1] + np.diff(mc_res['bins'])/2\n",
    "plt.hist(\n",
    "    bin_centers, weights=mc_res['counts'], bins=mc_res['bins'],\n",
    "    label='chamber 1', alpha=0.6\n",
    ")\n",
    "\n",
    "mc_res = histogram_results_2['chamber_2']\n",
    "bin_centers = mc_res['bins'][:-1] + np.diff(mc_res['bins'])/2\n",
    "plt.hist(\n",
    "    bin_centers, weights=mc_res['counts'], bins=mc_res['bins'],\n",
    "    label='chamber 2', alpha=0.6\n",
    ")\n",
    "\n",
    "mc_res = histogram_results_2['chamber_3']\n",
    "bin_centers = mc_res['bins'][:-1] + np.diff(mc_res['bins'])/2\n",
    "plt.hist(\n",
    "    bin_centers, weights=mc_res['counts'], bins=mc_res['bins'],\n",
    "    label='chamber 3', alpha=0.6\n",
    ")\n",
    "\n",
    "\n",
    "mc_res = histogram_results_2['chamber_4']\n",
    "bin_centers = mc_res['bins'][:-1] + np.diff(mc_res['bins'])/2\n",
    "plt.hist(\n",
    "    bin_centers, weights=mc_res['counts'], bins=mc_res['bins'],\n",
    "    label='chamber 4', alpha=0.6\n",
    ")\n",
    "\n",
    "\n",
    "plt.xlabel(\"\")\n",
    "plt.ylabel(\"\")\n",
    "plt.legend()\n",
    "plt.semilogy()\n",
    "plt.tight_layout()\n",
    "plt.show()"
   ]
  },
  {
   "cell_type": "code",
   "execution_count": 1,
   "id": "e9e6a3b9",
   "metadata": {},
   "outputs": [],
   "source": [
    "\n",
    "a ={'Total Count': 5540, 'Chamber_1': {'Hist_1': {'Bins': [0, 5, 10, 15, 20, 25, 30, 35, 40, 45, 50, 55, 60, 65, 70, 75, 80, 85, 90, 95, 100, 105, 110, 115, 120, 125, 130, 135, 140, 145, 150, 155, 160, 165], 'Counts': [59, 80, 53, 96, 65, 59, 54, 47, 79, 74, 49, 79, 80, 0, 0, 0, 0, 0, 0, 0, 0, 0, 0, 0, 0, 0, 0, 0, 0, 0, 0, 0, 0]}}, 'Chamber_2': {'Hist_1': {'Bins': [0, 5, 10, 15, 20, 25, 30, 35, 40, 45, 50, 55, 60, 65, 70, 75, 80, 85, 90, 95, 100, 105, 110, 115, 120, 125, 130, 135, 140, 145, 150, 155, 160, 165], 'Counts': [0, 0, 0, 0, 0, 0, 0, 0, 0, 0, 0, 0, 28, 204, 183, 140, 150, 117, 121, 158, 166, 127, 217, 175, 206, 98, 0, 0, 0, 0, 0, 0, 0]}}, 'Chamber_3': {'Hist_1': {'Bins': [0, 5, 10, 15, 20, 25, 30, 35, 40, 45, 50, 55, 60, 65, 70, 75, 80, 85, 90, 95, 100, 105, 110, 115, 120, 125, 130, 135, 140, 145, 150, 155, 160, 165], 'Counts': [106, 117, 111, 62, 105, 95, 70, 169, 122, 104, 120, 106, 79, 0, 0, 0, 0, 0, 0, 0, 0, 0, 0, 0, 0, 0, 0, 0, 0, 0, 0, 0, 0]}}, 'Chamber_4': {'Hist_1': {'Bins': [0, 5, 10, 15, 20, 25, 30, 35, 40, 45, 50, 55, 60, 65, 70, 75, 80, 85, 90, 95, 100, 105, 110, 115, 120, 125, 130, 135, 140, 145, 150, 155, 160, 165], 'Counts': [0, 0, 0, 0, 0, 0, 0, 0, 0, 0, 0, 0, 14, 107, 84, 99, 112, 87, 82, 101, 89, 97, 112, 81, 84, 61, 0, 0, 0, 0, 0, 0, 0]}}}\n"
   ]
  },
  {
   "cell_type": "code",
   "execution_count": 8,
   "id": "69e5e66f",
   "metadata": {},
   "outputs": [],
   "source": [
    "x= a['Chamber_1']['Hist_1']['Bins']\n",
    "y= a['Chamber_1']['Hist_1']['Counts']"
   ]
  },
  {
   "cell_type": "code",
   "execution_count": 10,
   "id": "3d35d197",
   "metadata": {},
   "outputs": [
    {
     "data": {
      "text/plain": [
       "(array([59., 80., 53., 96., 65., 59., 54., 47., 79., 74., 49., 79., 80.,\n",
       "         0.,  0.,  0.,  0.,  0.,  0.,  0.,  0.,  0.,  0.,  0.,  0.,  0.,\n",
       "         0.,  0.,  0.,  0.,  0.,  0.,  0.]),\n",
       " array([  0,   5,  10,  15,  20,  25,  30,  35,  40,  45,  50,  55,  60,\n",
       "         65,  70,  75,  80,  85,  90,  95, 100, 105, 110, 115, 120, 125,\n",
       "        130, 135, 140, 145, 150, 155, 160, 165]),\n",
       " <BarContainer object of 33 artists>)"
      ]
     },
     "execution_count": 10,
     "metadata": {},
     "output_type": "execute_result"
    },
    {
     "data": {
      "image/png": "[encoded data removed]",
      "text/plain": [
       "<Figure size 576x432 with 1 Axes>"
      ]
     },
     "metadata": {
      "needs_background": "light"
     },
     "output_type": "display_data"
    }
   ],
   "source": [
    "import matplotlib.pyplot as plt\n",
    "import numpy as np\n",
    "\n",
    "plt.figure(figsize=(8,6))\n",
    "\n",
    "mc_res = a['Chamber_1']['Hist_1']\n",
    "bin_centers = mc_res['Bins'][:-1] + np.diff(mc_res['Bins'])/2\n",
    "plt.hist(\n",
    "    bin_centers, weights=mc_res['Counts'], bins=mc_res['Bins'],\n",
    "    label='chamber 1', alpha=0.6\n",
    ")"
   ]
  },
  {
   "cell_type": "code",
   "execution_count": null,
   "id": "a09b71df",
   "metadata": {},
   "outputs": [],
   "source": []
  }
 ],
 "metadata": {
  "kernelspec": {
   "display_name": "Python 3",
   "language": "python",
   "name": "python3"
  },
  "language_info": {
   "codemirror_mode": {
    "name": "ipython",
    "version": 3
   },
   "file_extension": ".py",
   "mimetype": "text/x-python",
   "name": "python",
   "nbconvert_exporter": "python",
   "pygments_lexer": "ipython3",
   "version": "3.8.8"
  }
 },
 "nbformat": 4,
 "nbformat_minor": 5
}
