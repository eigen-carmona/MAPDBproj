{
 "cells": [
  {
   "cell_type": "code",
   "execution_count": 65,
   "id": "17ff8c7e",
   "metadata": {},
   "outputs": [
    {
     "name": "stdout",
     "output_type": "stream",
     "text": [
      "test_3\n"
     ]
    }
   ],
   "source": [
    "import json,csv\n",
    "from kafka import KafkaProducer\n",
    "import time\n",
    "\n",
    "KAFKA_BOOTSTRAP_SERVERS = 'localhost:9092'\n",
    "\n",
    "def producer(file):\n",
    "    producer = KafkaProducer( bootstrap_servers=KAFKA_BOOTSTRAP_SERVERS,\n",
    "                               value_serializer=lambda v: json.dumps(v).encode('utf-8'))\n",
    "    path ='/home/hilario/PoD/2ndSemester/MAPD-B/Data-processing/Labs/kafka_pazzini/notebooks/Taxi_NY/Data/'\n",
    "    with open(path+file+'.csv') as file:\n",
    "        reader = csv.DictReader(file, delimiter=\",\")\n",
    "        for row in reader:\n",
    "            row[\"HEAD\"] = int(row[\"HEAD\"])\n",
    "            row[\"FPGA\"] = int(row[\"FPGA\"])\n",
    "            row[\"TDC_CHANNEL\"] = int(row[\"TDC_CHANNEL\"])\n",
    "            row[\"ORBIT_CNT\"] = float(row[\"ORBIT_CNT\"])\n",
    "            row[\"BX_COUNTER\"] = int(row[\"BX_COUNTER\"])\n",
    "            row[\"TDC_MEAS\"] = float(row[\"TDC_MEAS\"])\n",
    "            producer.send(topic='Experiment_measurements', value=row)\n",
    "            #producer.send(topic='Experiment_measurements', value=json.dumps(row))\n",
    "            producer.flush()\n",
    "\n",
    "for i in ['test_3'] :\n",
    "    print(i)\n",
    "    producer(i)\n",
    "    time.sleep(0.25)"
   ]
  },
  {
   "cell_type": "code",
   "execution_count": 18,
   "id": "50234ac1",
   "metadata": {
    "scrolled": true
   },
   "outputs": [],
   "source": [
    "a=[[53, 5], [34, 1], [27, 1], [44, 5], [12, 3], [47, 4], [52, 1], [16, 2], [6, 1], [20, 1], [40, 1], [48, 3], [5, 1], [19, 3], [41, 2], [15, 2], [43, 2], [61, 1], [17, 1], [59, 1], [55, 1], [4, 1], [23, 2], [39, 1], [49, 2], [7, 2], [63, 1], [50, 1], [45, 5], [25, 2], [24, 1], [62, 2], [21, 2], [60, 1], [56, 1], [58, 1], [14, 1], [42, 3], [30, 1], [46, 4], [0, 2], [18, 2]]"
   ]
  },
  {
   "cell_type": "code",
   "execution_count": 33,
   "id": "02197c74",
   "metadata": {
    "scrolled": true
   },
   "outputs": [
    {
     "data": {
      "text/plain": [
       "[[53, 5],\n",
       " [34, 1],\n",
       " [27, 1],\n",
       " [44, 5],\n",
       " [12, 3],\n",
       " [47, 4],\n",
       " [52, 1],\n",
       " [16, 2],\n",
       " [6, 1],\n",
       " [20, 1],\n",
       " [40, 1],\n",
       " [48, 3],\n",
       " [5, 1],\n",
       " [19, 3],\n",
       " [41, 2],\n",
       " [15, 2],\n",
       " [43, 2],\n",
       " [61, 1],\n",
       " [17, 1],\n",
       " [59, 1],\n",
       " [55, 1],\n",
       " [4, 1],\n",
       " [23, 2],\n",
       " [39, 1],\n",
       " [49, 2],\n",
       " [7, 2],\n",
       " [63, 1],\n",
       " [50, 1],\n",
       " [45, 5],\n",
       " [25, 2],\n",
       " [24, 1],\n",
       " [62, 2],\n",
       " [21, 2],\n",
       " [60, 1],\n",
       " [56, 1],\n",
       " [58, 1],\n",
       " [14, 1],\n",
       " [42, 3],\n",
       " [30, 1],\n",
       " [46, 4],\n",
       " [0, 2],\n",
       " [18, 2]]"
      ]
     },
     "execution_count": 33,
     "metadata": {},
     "output_type": "execute_result"
    }
   ],
   "source": [
    "a"
   ]
  },
  {
   "cell_type": "code",
   "execution_count": 31,
   "id": "06caf98f",
   "metadata": {},
   "outputs": [],
   "source": [
    "import numpy as np"
   ]
  },
  {
   "cell_type": "code",
   "execution_count": 52,
   "id": "f398f2d0",
   "metadata": {},
   "outputs": [],
   "source": [
    "b = np.array(a)"
   ]
  },
  {
   "cell_type": "code",
   "execution_count": 53,
   "id": "e3f6ac86",
   "metadata": {},
   "outputs": [
    {
     "data": {
      "text/plain": [
       "array([53, 34, 27, 44, 12, 47, 52, 16,  6, 20, 40, 48,  5, 19, 41, 15, 43,\n",
       "       61, 17, 59, 55,  4, 23, 39, 49,  7, 63, 50, 45, 25, 24, 62, 21, 60,\n",
       "       56, 58, 14, 42, 30, 46,  0, 18])"
      ]
     },
     "execution_count": 53,
     "metadata": {},
     "output_type": "execute_result"
    }
   ],
   "source": [
    "b[:,0]"
   ]
  },
  {
   "cell_type": "code",
   "execution_count": 54,
   "id": "175898ac",
   "metadata": {},
   "outputs": [
    {
     "data": {
      "text/plain": [
       "array([5, 1, 1, 5, 3, 4, 1, 2, 1, 1, 1, 3, 1, 3, 2, 2, 2, 1, 1, 1, 1, 1,\n",
       "       2, 1, 2, 2, 1, 1, 5, 2, 1, 2, 2, 1, 1, 1, 1, 3, 1, 4, 2, 2])"
      ]
     },
     "execution_count": 54,
     "metadata": {},
     "output_type": "execute_result"
    }
   ],
   "source": [
    "b[:,1]"
   ]
  },
  {
   "cell_type": "code",
   "execution_count": 55,
   "id": "0ae6aaaf",
   "metadata": {
    "scrolled": true
   },
   "outputs": [
    {
     "data": {
      "text/plain": [
       "array([[53,  5],\n",
       "       [34,  1],\n",
       "       [27,  1],\n",
       "       [44,  5],\n",
       "       [12,  3],\n",
       "       [47,  4],\n",
       "       [52,  1],\n",
       "       [16,  2],\n",
       "       [ 6,  1],\n",
       "       [20,  1],\n",
       "       [40,  1],\n",
       "       [48,  3],\n",
       "       [ 5,  1],\n",
       "       [19,  3],\n",
       "       [41,  2],\n",
       "       [15,  2],\n",
       "       [43,  2],\n",
       "       [61,  1],\n",
       "       [17,  1],\n",
       "       [59,  1],\n",
       "       [55,  1],\n",
       "       [ 4,  1],\n",
       "       [23,  2],\n",
       "       [39,  1],\n",
       "       [49,  2],\n",
       "       [ 7,  2],\n",
       "       [63,  1],\n",
       "       [50,  1],\n",
       "       [45,  5],\n",
       "       [25,  2],\n",
       "       [24,  1],\n",
       "       [62,  2],\n",
       "       [21,  2],\n",
       "       [60,  1],\n",
       "       [56,  1],\n",
       "       [58,  1],\n",
       "       [14,  1],\n",
       "       [42,  3],\n",
       "       [30,  1],\n",
       "       [46,  4],\n",
       "       [ 0,  2],\n",
       "       [18,  2]])"
      ]
     },
     "execution_count": 55,
     "metadata": {},
     "output_type": "execute_result"
    }
   ],
   "source": [
    "b"
   ]
  },
  {
   "cell_type": "code",
   "execution_count": 51,
   "id": "e15a7b62",
   "metadata": {},
   "outputs": [
    {
     "data": {
      "text/plain": [
       "array([[ 0,  2],\n",
       "       [ 4,  1],\n",
       "       [ 5,  1],\n",
       "       [ 6,  1],\n",
       "       [ 7,  2],\n",
       "       [12,  3],\n",
       "       [14,  1],\n",
       "       [15,  2],\n",
       "       [16,  2],\n",
       "       [17,  1],\n",
       "       [18,  2],\n",
       "       [19,  3],\n",
       "       [20,  1],\n",
       "       [21,  2],\n",
       "       [23,  2],\n",
       "       [24,  1],\n",
       "       [25,  2],\n",
       "       [27,  1],\n",
       "       [30,  1],\n",
       "       [34,  1],\n",
       "       [39,  1],\n",
       "       [40,  1],\n",
       "       [41,  2],\n",
       "       [42,  3],\n",
       "       [43,  2],\n",
       "       [44,  5],\n",
       "       [45,  5],\n",
       "       [46,  4],\n",
       "       [47,  4],\n",
       "       [48,  3],\n",
       "       [49,  2],\n",
       "       [50,  1],\n",
       "       [52,  1],\n",
       "       [53,  5],\n",
       "       [55,  1],\n",
       "       [56,  1],\n",
       "       [58,  1],\n",
       "       [59,  1],\n",
       "       [60,  1],\n",
       "       [61,  1],\n",
       "       [62,  2],\n",
       "       [63,  1]])"
      ]
     },
     "execution_count": 51,
     "metadata": {},
     "output_type": "execute_result"
    }
   ],
   "source": [
    "b[b[:, 0].argsort()]"
   ]
  },
  {
   "cell_type": "code",
   "execution_count": null,
   "id": "6d451679",
   "metadata": {},
   "outputs": [],
   "source": []
  }
 ],
 "metadata": {
  "kernelspec": {
   "display_name": "Python 3",
   "language": "python",
   "name": "python3"
  },
  "language_info": {
   "codemirror_mode": {
    "name": "ipython",
    "version": 3
   },
   "file_extension": ".py",
   "mimetype": "text/x-python",
   "name": "python",
   "nbconvert_exporter": "python",
   "pygments_lexer": "ipython3",
   "version": "3.8.8"
  }
 },
 "nbformat": 4,
 "nbformat_minor": 5
}
